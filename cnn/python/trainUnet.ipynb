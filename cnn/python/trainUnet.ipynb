{
 "cells": [
  {
   "cell_type": "code",
   "execution_count": 1,
   "id": "a9af47a8",
   "metadata": {},
   "outputs": [],
   "source": [
    "import nibabel as nb\n",
    "import SimpleITK as sitk\n",
    "import matplotlib.pyplot as plt\n",
    "import numpy as np \n",
    "\n",
    "import torch \n",
    "import torchvision\n",
    "import torchvision.transforms as transforms\n",
    "import torch.optim as optim\n",
    "\n",
    "from torch import nn\n",
    "from torch.utils.data import DataLoader\n",
    "from torch.utils.tensorboard import SummaryWriter\n",
    "\n",
    "from sklearn.model_selection import train_test_split\n",
    "from datetime import datetime"
   ]
  },
  {
   "cell_type": "code",
   "execution_count": 2,
   "id": "f19d3f23",
   "metadata": {},
   "outputs": [],
   "source": [
    "import torch\n",
    "import torch.nn as nn\n",
    "import torchvision\n",
    "resnet = torchvision.models.resnet.resnet50(pretrained=True)\n",
    "\n",
    "# https://github.com/kevinlu1211/pytorch-unet-resnet-50-encoder\n",
    "\n",
    "class ConvBlock(nn.Module):\n",
    "    \"\"\"\n",
    "    Helper module that consists of a Conv -> BN -> ReLU\n",
    "    \"\"\"\n",
    "\n",
    "    def __init__(self, in_channels, out_channels, padding=1, kernel_size=3, stride=1, with_nonlinearity=True):\n",
    "        super().__init__()\n",
    "        self.conv = nn.Conv2d(in_channels, out_channels, padding=padding, kernel_size=kernel_size, stride=stride)\n",
    "        self.bn = nn.BatchNorm2d(out_channels)\n",
    "        self.relu = nn.ReLU()\n",
    "        self.with_nonlinearity = with_nonlinearity\n",
    "\n",
    "    def forward(self, x):\n",
    "        x = self.conv(x)\n",
    "        x = self.bn(x)\n",
    "        if self.with_nonlinearity:\n",
    "            x = self.relu(x)\n",
    "        return x\n",
    "\n",
    "\n",
    "class Bridge(nn.Module):\n",
    "    \"\"\"\n",
    "    This is the middle layer of the UNet which just consists of some\n",
    "    \"\"\"\n",
    "\n",
    "    def __init__(self, in_channels, out_channels):\n",
    "        super().__init__()\n",
    "        self.bridge = nn.Sequential(\n",
    "            ConvBlock(in_channels, out_channels),\n",
    "            ConvBlock(out_channels, out_channels)\n",
    "        )\n",
    "\n",
    "    def forward(self, x):\n",
    "        return self.bridge(x)\n",
    "\n",
    "\n",
    "class UpBlockForUNetWithResNet50(nn.Module):\n",
    "    \"\"\"\n",
    "    Up block that encapsulates one up-sampling step which consists of Upsample -> ConvBlock -> ConvBlock\n",
    "    \"\"\"\n",
    "\n",
    "    def __init__(self, in_channels, out_channels, up_conv_in_channels=None, up_conv_out_channels=None,\n",
    "                 upsampling_method=\"conv_transpose\"):\n",
    "        super().__init__()\n",
    "\n",
    "        if up_conv_in_channels == None:\n",
    "            up_conv_in_channels = in_channels\n",
    "        if up_conv_out_channels == None:\n",
    "            up_conv_out_channels = out_channels\n",
    "\n",
    "        if upsampling_method == \"conv_transpose\":\n",
    "            self.upsample = nn.ConvTranspose2d(up_conv_in_channels, up_conv_out_channels, kernel_size=2, stride=2)\n",
    "        elif upsampling_method == \"bilinear\":\n",
    "            self.upsample = nn.Sequential(\n",
    "                nn.Upsample(mode='bilinear', scale_factor=2),\n",
    "                nn.Conv2d(in_channels, out_channels, kernel_size=1, stride=1)\n",
    "            )\n",
    "        self.conv_block_1 = ConvBlock(in_channels, out_channels)\n",
    "        self.conv_block_2 = ConvBlock(out_channels, out_channels)\n",
    "\n",
    "    def forward(self, up_x, down_x):\n",
    "        \"\"\"\n",
    "        :param up_x: this is the output from the previous up block\n",
    "        :param down_x: this is the output from the down block\n",
    "        :return: upsampled feature map\n",
    "        \"\"\"\n",
    "        x = self.upsample(up_x)\n",
    "        x = torch.cat([x, down_x], 1)\n",
    "        x = self.conv_block_1(x)\n",
    "        x = self.conv_block_2(x)\n",
    "        return x\n",
    "\n",
    "\n",
    "class UNetWithResnet50Encoder(nn.Module):\n",
    "    DEPTH = 6\n",
    "\n",
    "    def __init__(self):\n",
    "        super().__init__()\n",
    "        resnet = torchvision.models.resnet.resnet50(pretrained=True)\n",
    "        down_blocks = []\n",
    "        up_blocks = []\n",
    "        self.input_block = nn.Sequential(*list(resnet.children()))[:3]\n",
    "        self.input_pool = list(resnet.children())[3]\n",
    "        for bottleneck in list(resnet.children()):\n",
    "            if isinstance(bottleneck, nn.Sequential):\n",
    "                down_blocks.append(bottleneck)\n",
    "        self.down_blocks = nn.ModuleList(down_blocks)\n",
    "        self.bridge = Bridge(2048, 2048)\n",
    "        up_blocks.append(UpBlockForUNetWithResNet50(2048, 1024))\n",
    "        up_blocks.append(UpBlockForUNetWithResNet50(1024, 512))\n",
    "        up_blocks.append(UpBlockForUNetWithResNet50(512, 256))\n",
    "        up_blocks.append(UpBlockForUNetWithResNet50(in_channels=128 + 64, out_channels=128,\n",
    "                                                    up_conv_in_channels=256, up_conv_out_channels=128))\n",
    "        up_blocks.append(UpBlockForUNetWithResNet50(in_channels=64 + 3, out_channels=64,\n",
    "                                                    up_conv_in_channels=128, up_conv_out_channels=64))\n",
    "\n",
    "        self.up_blocks = nn.ModuleList(up_blocks)\n",
    "\n",
    "        self.out = nn.Conv2d(64, 1, kernel_size=1, stride=1)\n",
    "\n",
    "    def forward(self, x, with_output_feature_map=False):\n",
    "        pre_pools = dict()\n",
    "        pre_pools[f\"layer_0\"] = x\n",
    "        x = self.input_block(x)\n",
    "        pre_pools[f\"layer_1\"] = x\n",
    "        x = self.input_pool(x)\n",
    "\n",
    "        for i, block in enumerate(self.down_blocks, 2):\n",
    "            x = block(x)\n",
    "            if i == (UNetWithResnet50Encoder.DEPTH - 1):\n",
    "                continue\n",
    "            pre_pools[f\"layer_{i}\"] = x\n",
    "\n",
    "        x = self.bridge(x)\n",
    "\n",
    "        for i, block in enumerate(self.up_blocks, 1):\n",
    "            key = f\"layer_{UNetWithResnet50Encoder.DEPTH - 1 - i}\"\n",
    "            x = block(x, pre_pools[key])\n",
    "        output_feature_map = x\n",
    "        x = self.out(x)\n",
    "        del pre_pools\n",
    "        if with_output_feature_map:\n",
    "            return x, output_feature_map\n",
    "        else:\n",
    "            return x\n",
    "\n",
    "unet = UNetWithResnet50Encoder()\n",
    "inp = torch.rand((1, 3, 256, 256))\n",
    "out = unet(inp)"
   ]
  },
  {
   "cell_type": "code",
   "execution_count": 3,
   "id": "6d5c4aad",
   "metadata": {},
   "outputs": [
    {
     "data": {
      "text/plain": [
       "torch.Size([1, 1, 256, 256])"
      ]
     },
     "execution_count": 3,
     "metadata": {},
     "output_type": "execute_result"
    }
   ],
   "source": [
    "out.shape"
   ]
  },
  {
   "cell_type": "code",
   "execution_count": 14,
   "id": "738e4e17",
   "metadata": {},
   "outputs": [],
   "source": [
    "def MSE(img1, img2):\n",
    "        cuadradoDeDif = ((img1 -img2) ** 2)\n",
    "        suma = np.sum(cuadradoDeDif)\n",
    "        cantPix = img1.shape[0] * img1.shape[1] #img1 and 2 should have same shape\n",
    "        error = suma / cantPix\n",
    "        return error"
   ]
  },
  {
   "cell_type": "code",
   "execution_count": 6,
   "id": "cea0300d",
   "metadata": {},
   "outputs": [
    {
     "name": "stdout",
     "output_type": "stream",
     "text": [
      "noisyDataSet1 shape: (1726, 344, 344)\n",
      "noisyDataSet2 shape: (1726, 344, 344)\n",
      "groundTruth shape: (1726, 344, 344)\n"
     ]
    }
   ],
   "source": [
    "# Importo base de datos\n",
    "\n",
    "noisyDataSet1_nii = sitk.ReadImage('./noisyDataSet1.nii')\n",
    "img_noisyDataSet1 = sitk.GetArrayFromImage(noisyDataSet1_nii)\n",
    "\n",
    "noisyDataSet2_nii = sitk.ReadImage('./noisyDataSet2.nii')\n",
    "img_noisyDataSet2 = sitk.GetArrayFromImage(noisyDataSet2_nii)\n",
    "\n",
    "groundTruth_nii = sitk.ReadImage('./groundTruth.nii')\n",
    "img_groundTruth = sitk.GetArrayFromImage(groundTruth_nii)\n",
    "\n",
    "print(\"noisyDataSet1 shape:\",img_noisyDataSet1.shape)\n",
    "print(\"noisyDataSet2 shape:\",img_noisyDataSet2.shape)\n",
    "print(\"groundTruth shape:\",img_groundTruth.shape)"
   ]
  },
  {
   "cell_type": "code",
   "execution_count": 8,
   "id": "3a4044f9",
   "metadata": {},
   "outputs": [
    {
     "name": "stdout",
     "output_type": "stream",
     "text": [
      "(1726, 3, 256, 256)\n",
      "(1726, 3, 256, 256)\n",
      "(1726, 3, 256, 256)\n"
     ]
    }
   ],
   "source": [
    "# Reshape for training\n",
    "\n",
    "img_noisyDataSet1 =img_noisyDataSet1[:,44:300,44:300]\n",
    "img_noisyDataSet2 =img_noisyDataSet2[:,44:300,44:300]\n",
    "img_groundTruth =img_groundTruth[:,44:300,44:300]\n",
    "\n",
    "img_noisyDataSet1 = np.stack((img_noisyDataSet1,)*3, axis=-3)\n",
    "img_noisyDataSet2 = np.stack((img_noisyDataSet2,)*3, axis=-3)\n",
    "img_groundTruth = np.stack((img_groundTruth,)*3 ,axis=-3)\n",
    "\n",
    "print(img_noisyDataSet1.shape)\n",
    "print(img_noisyDataSet2.shape)\n",
    "print(img_groundTruth.shape)"
   ]
  },
  {
   "cell_type": "code",
   "execution_count": 9,
   "id": "83bf9109",
   "metadata": {},
   "outputs": [],
   "source": [
    "# Acoto conjuntos (OPCIONAL)\n",
    "\n",
    "img_noisyDataSet1 =img_noisyDataSet1[30:50,:,:,:]\n",
    "img_noisyDataSet2 =img_noisyDataSet2[30:50,:,:,:]\n",
    "img_groundTruth =img_groundTruth[30:50,:,:,:]\n"
   ]
  },
  {
   "cell_type": "code",
   "execution_count": 10,
   "id": "0ad2dcbe",
   "metadata": {},
   "outputs": [],
   "source": [
    "# Entrenamiento #\n",
    "\n",
    "# Loss and optimizer\n",
    "\n",
    "criterion = nn.MSELoss()\n",
    "optimizer = optim.Adam(unet.parameters(), lr=0.0001)\n",
    "\n",
    "# Conjunto de entrenamiento, testeo y validacion\n",
    "\n",
    "train_noisyImage,test_noisyImage,train_groundTruth,test_groundTruth = train_test_split(img_noisyDataSet1, img_groundTruth, test_size=0.2)\n",
    "\n",
    "valid_noisyImage = train_noisyImage[-5:,:,:,:]\n",
    "valid_groundTruth = train_groundTruth[-5:,:,:,:]\n",
    "\n",
    "train_noisyImage = train_noisyImage [:-5,:,:,:]\n",
    "train_groundTruth = train_groundTruth[:-5:,:,:,:]"
   ]
  },
  {
   "cell_type": "code",
   "execution_count": 15,
   "id": "ff0ed4e3",
   "metadata": {},
   "outputs": [
    {
     "name": "stdout",
     "output_type": "stream",
     "text": [
      "MSE orig 0.3234834671020508\n",
      "MSE test 2.103574514389038\n"
     ]
    }
   ],
   "source": [
    "# Prueba con un slice \n",
    "if __name__ == '__main__':\n",
    "    inputs = train_noisyImage[5]\n",
    "    inputs = np.stack((inputs,)*3, axis=-3)\n",
    "    inputs = torch.Tensor(inputs)\n",
    "    out = unet(inputs)\n",
    "    \n",
    "gT = train_groundTruth[5]\n",
    "gT = np.stack((gT,)*3, axis=-3)\n",
    "gT = torch.Tensor(gT)\n",
    "\n",
    "inputs_np = inputs.detach().numpy()\n",
    "out_np = out.detach().numpy()\n",
    "gT_np = gT.detach().numpy()\n",
    "\n",
    "MSE_orig = MSE(inputs_np[0,0,:,:],gT_np[0,0,:,:])\n",
    "MSE_test = MSE(out_np[0,0,:,:],gT_np[0,0,:,:])\n",
    "\n",
    "print('MSE orig', MSE_orig)\n",
    "print('MSE test', MSE_test)\n",
    "\n",
    "\n",
    "# Guardar imgs en formato .nii\n",
    "\n",
    "img_inputs = sitk.GetImageFromArray(inputs_np[0,0,:,:])\n",
    "sitk.WriteImage(img_inputs,'inputsNoTrain.nii')\n",
    "\n",
    "img_out = sitk.GetImageFromArray(out_np[0,0,:,:])\n",
    "sitk.WriteImage(img_out,'outNoTrain.nii')\n",
    "\n",
    "\n",
    "img_gT = sitk.GetImageFromArray(gT_np[0,0,:,:])\n",
    "sitk.WriteImage(img_gT,'groundTruthNoTrain.nii')"
   ]
  },
  {
   "cell_type": "code",
   "execution_count": 16,
   "id": "d0f84ea2",
   "metadata": {},
   "outputs": [],
   "source": [
    "# Codigo de pag Pythorch\n",
    "def train_one_epoch(epoch_index, tb_writer):\n",
    "    running_loss = 0.\n",
    "    last_loss = 0.\n",
    "    \n",
    "    for i in range(0, train_noisyImage.shape[0]):\n",
    "        \n",
    "        # Acondicionamiento de datos\n",
    "        \n",
    "        inputs = train_noisyImage[i]\n",
    "        inputs = np.stack((inputs,)*3, axis=-3)\n",
    "        inputs = torch.Tensor(inputs)\n",
    "        \n",
    "        trainGroundTruth = train_groundTruth[i]\n",
    "        trainGroundTruth = np.stack((trainGroundTruth,)*3, axis=-3)\n",
    "        trainGroundTruth = torch.Tensor(trainGroundTruth)\n",
    "\n",
    "        # zero the parameter gradients\n",
    "        optimizer.zero_grad()\n",
    "\n",
    "        # forward + backward + optimize\n",
    "        outputs = unet(inputs)\n",
    "        loss = criterion(outputs, trainGroundTruth)\n",
    "\n",
    "        loss.backward()\n",
    "\n",
    "        # Adjust learning weights\n",
    "        optimizer.step()\n",
    "\n",
    "        # Gather data and report\n",
    "        running_loss += loss.item()\n",
    "        \n",
    "        if i % 10 == 9:\n",
    "            last_loss = running_loss / 10 # loss en las ultimas 10 imagenes\n",
    "            print('  image {} loss: {}'.format(i + 1, last_loss))\n",
    "            tb_x = epoch_index * ((train_noisyImage.shape[0])/10) + i + 1\n",
    "            tb_writer.add_scalar('Loss/train', last_loss, tb_x)\n",
    "            running_loss = 0.\n",
    "\n",
    "    return last_loss"
   ]
  },
  {
   "cell_type": "code",
   "execution_count": 17,
   "id": "3a124df1",
   "metadata": {},
   "outputs": [
    {
     "name": "stdout",
     "output_type": "stream",
     "text": [
      "EPOCH 1:\n"
     ]
    },
    {
     "name": "stderr",
     "output_type": "stream",
     "text": [
      "c:\\users\\ecyt\\appdata\\local\\programs\\python\\python37\\lib\\site-packages\\torch\\nn\\modules\\loss.py:529: UserWarning: Using a target size (torch.Size([3, 3, 256, 256])) that is different to the input size (torch.Size([3, 1, 256, 256])). This will likely lead to incorrect results due to broadcasting. Please ensure they have the same size.\n",
      "  return F.mse_loss(input, target, reduction=self.reduction)\n"
     ]
    },
    {
     "name": "stdout",
     "output_type": "stream",
     "text": [
      "  image 10 loss: 1.0822339594364165\n",
      "LOSS train 1.0822339594364165 valid 1.5346254110336304\n"
     ]
    },
    {
     "name": "stderr",
     "output_type": "stream",
     "text": [
      "c:\\users\\ecyt\\appdata\\local\\programs\\python\\python37\\lib\\site-packages\\torch\\nn\\modules\\module.py:1384: UserWarning: positional arguments and argument \"destination\" are deprecated. nn.Module.state_dict will not accept them in the future. Refer to https://pytorch.org/docs/master/generated/torch.nn.Module.html#torch.nn.Module.state_dict for details.\n",
      "  \" and \".join(warn_msg) + \" are deprecated. nn.Module.state_dict will not accept them in the future. \"\n"
     ]
    },
    {
     "name": "stdout",
     "output_type": "stream",
     "text": [
      "EPOCH 2:\n",
      "  image 10 loss: 0.34377382695674896\n",
      "LOSS train 0.34377382695674896 valid 0.6948486566543579\n",
      "EPOCH 3:\n",
      "  image 10 loss: 0.24152788668870925\n",
      "LOSS train 0.24152788668870925 valid 0.25853070616722107\n",
      "EPOCH 4:\n",
      "  image 10 loss: 0.20007792860269547\n",
      "LOSS train 0.20007792860269547 valid 0.18785162270069122\n",
      "EPOCH 5:\n",
      "  image 10 loss: 0.18262776583433152\n",
      "LOSS train 0.18262776583433152 valid 0.17436020076274872\n",
      "EPOCH 6:\n",
      "  image 10 loss: 0.1721140667796135\n",
      "LOSS train 0.1721140667796135 valid 0.16874811053276062\n",
      "EPOCH 7:\n",
      "  image 10 loss: 0.16441905349493027\n",
      "LOSS train 0.16441905349493027 valid 0.1646757423877716\n",
      "EPOCH 8:\n",
      "  image 10 loss: 0.15759579837322235\n",
      "LOSS train 0.15759579837322235 valid 0.16254189610481262\n",
      "EPOCH 9:\n",
      "  image 10 loss: 0.15018845945596696\n",
      "LOSS train 0.15018845945596696 valid 0.16150106489658356\n",
      "EPOCH 10:\n",
      "  image 10 loss: 0.14183291047811508\n",
      "LOSS train 0.14183291047811508 valid 0.16271673142910004\n",
      "EPOCH 11:\n",
      "  image 10 loss: 0.13234228640794754\n",
      "LOSS train 0.13234228640794754 valid 0.16211548447608948\n",
      "EPOCH 12:\n",
      "  image 10 loss: 0.12224158644676208\n",
      "LOSS train 0.12224158644676208 valid 0.16265341639518738\n",
      "EPOCH 13:\n",
      "  image 10 loss: 0.11454367861151696\n",
      "LOSS train 0.11454367861151696 valid 0.16612346470355988\n",
      "EPOCH 14:\n",
      "  image 10 loss: 0.10356748700141907\n",
      "LOSS train 0.10356748700141907 valid 0.1732187122106552\n",
      "EPOCH 15:\n",
      "  image 10 loss: 0.08860191628336907\n",
      "LOSS train 0.08860191628336907 valid 0.16933540999889374\n",
      "EPOCH 16:\n",
      "  image 10 loss: 0.07569222524762154\n",
      "LOSS train 0.07569222524762154 valid 0.16231748461723328\n",
      "EPOCH 17:\n",
      "  image 10 loss: 0.06616214364767074\n",
      "LOSS train 0.06616214364767074 valid 0.16511598229408264\n",
      "EPOCH 18:\n",
      "  image 10 loss: 0.05831886045634747\n",
      "LOSS train 0.05831886045634747 valid 0.17145657539367676\n",
      "EPOCH 19:\n",
      "  image 10 loss: 0.05078098215162754\n",
      "LOSS train 0.05078098215162754 valid 0.1713385134935379\n",
      "EPOCH 20:\n",
      "  image 10 loss: 0.04413734413683414\n",
      "LOSS train 0.04413734413683414 valid 0.18641921877861023\n"
     ]
    }
   ],
   "source": [
    "# Initializing in a separate cell so we can easily add more epochs to the same run\n",
    "\n",
    "timestamp = datetime.now().strftime('%Y%m%d_%H%M%S')\n",
    "writer = SummaryWriter('runs/fashion_trainer_{}'.format(timestamp))\n",
    "epoch_number = 0\n",
    "\n",
    "EPOCHS = 20\n",
    "\n",
    "best_vloss = 1_000_000.\n",
    "\n",
    "for epoch in range(EPOCHS):\n",
    "    print('EPOCH {}:'.format(epoch_number + 1))\n",
    "\n",
    "    # Make sure gradient tracking is on, and do a pass over the data\n",
    "    unet.train(True)\n",
    "    avg_loss = train_one_epoch(epoch_number, writer)\n",
    "\n",
    "    # We don't need gradients on to do reporting\n",
    "    unet.train(False)\n",
    "\n",
    "    running_vloss = 0.0\n",
    "    for i in range(0, valid_noisyImage.shape[0]):\n",
    "        \n",
    "        vinputs = valid_noisyImage[i]\n",
    "        vinputs = np.stack((vinputs,)*3, axis=-3)\n",
    "        vinputs = torch.Tensor(vinputs)\n",
    "        \n",
    "        validGroundTruth = valid_groundTruth[i]\n",
    "        validGroundTruth = np.stack((validGroundTruth,)*3, axis=-3)\n",
    "        validGroundTruth = torch.Tensor(validGroundTruth)\n",
    "        \n",
    "        voutputs = unet(vinputs)\n",
    "        vloss =  criterion(voutputs, validGroundTruth)\n",
    "        running_vloss += vloss\n",
    "\n",
    "    avg_vloss = running_vloss / (i + 1)\n",
    "    print('LOSS train {} valid {}'.format(avg_loss, avg_vloss))\n",
    "\n",
    "    # Log the running loss averaged per batch\n",
    "    # for both training and validation\n",
    "    writer.add_scalars('Training vs. Validation Loss',\n",
    "                    { 'Training' : avg_loss, 'Validation' : avg_vloss },\n",
    "                    epoch_number + 1)\n",
    "    writer.flush()\n",
    "\n",
    "    # Track best performance, and save the model's state\n",
    "    if avg_vloss < best_vloss:\n",
    "        best_vloss = avg_vloss\n",
    "        unet_path = 'model_{}_{}'.format(timestamp, epoch_number)\n",
    "        torch.save(unet.state_dict(), unet_path)\n",
    "\n",
    "    epoch_number += 1"
   ]
  },
  {
   "cell_type": "code",
   "execution_count": 19,
   "id": "1a7dbe2f",
   "metadata": {},
   "outputs": [
    {
     "name": "stdout",
     "output_type": "stream",
     "text": [
      "MSE orig 0.3234834671020508\n",
      "MSE test 0.07386448979377747\n"
     ]
    }
   ],
   "source": [
    "# CONJUNTO DE ENTRENAMIENTO\n",
    "\n",
    "if __name__ == '__main__':\n",
    "    inputsTrain = train_noisyImage[5]\n",
    "    inputsTrain = np.stack((inputsTrain,)*3, axis=-3)\n",
    "    inputsTrain = torch.Tensor(inputsTrain)\n",
    "    outTrain = unet(inputsTrain)\n",
    "    \n",
    "gTtrain = train_groundTruth[5]\n",
    "gTtrain = np.expand_dims((gTtrain,)*3, axis=-3)\n",
    "gTtrain = torch.Tensor(gTtrain)\n",
    "\n",
    "\n",
    "inputsTrain_np = inputsTrain.detach().numpy()\n",
    "outTrain_np = outTrain.detach().numpy()\n",
    "gTtrain_np = gTtrain.detach().numpy()\n",
    "\n",
    "# MSE antes y dsp\n",
    "\n",
    "MSE_orig = MSE(inputsTrain_np[0,0,:,:],gTtrain_np[0,0,:,:])\n",
    "MSE_test = MSE(outTrain_np[0,0,:,:],gTtrain_np[0,0,:,:])\n",
    "\n",
    "print('MSE orig', MSE_orig)\n",
    "print('MSE test', MSE_test)"
   ]
  },
  {
   "cell_type": "code",
   "execution_count": 20,
   "id": "d8d3e5ea",
   "metadata": {},
   "outputs": [],
   "source": [
    "scaleForVisualization = 1.2*gT_np.max()"
   ]
  },
  {
   "cell_type": "code",
   "execution_count": 21,
   "id": "d8695e76",
   "metadata": {},
   "outputs": [
    {
     "data": {
      "text/plain": [
       "<matplotlib.image.AxesImage at 0x21cb1aa8148>"
      ]
     },
     "execution_count": 21,
     "metadata": {},
     "output_type": "execute_result"
    },
    {
     "data": {
      "image/png": "[encoded data removed]",
      "text/plain": [
       "<Figure size 432x288 with 1 Axes>"
      ]
     },
     "metadata": {
      "needs_background": "light"
     },
     "output_type": "display_data"
    }
   ],
   "source": [
    "plt.imshow(inputsTrain_np[0,0,:,:] , vmin = 0, vmax = scaleForVisualization)"
   ]
  },
  {
   "cell_type": "code",
   "execution_count": 22,
   "id": "fc6ac814",
   "metadata": {},
   "outputs": [
    {
     "data": {
      "text/plain": [
       "<matplotlib.image.AxesImage at 0x21cb75e91c8>"
      ]
     },
     "execution_count": 22,
     "metadata": {},
     "output_type": "execute_result"
    },
    {
     "data": {
      "image/png": "[encoded data removed]",
      "text/plain": [
       "<Figure size 432x288 with 1 Axes>"
      ]
     },
     "metadata": {
      "needs_background": "light"
     },
     "output_type": "display_data"
    }
   ],
   "source": [
    "plt.imshow(outTrain_np[0,0,:,:] ,vmin = 0, vmax = scaleForVisualization )"
   ]
  },
  {
   "cell_type": "code",
   "execution_count": 23,
   "id": "dc7093f7",
   "metadata": {},
   "outputs": [
    {
     "name": "stdout",
     "output_type": "stream",
     "text": [
      "MSE orig 0.3794829547405243\n",
      "MSE test 0.21144960820674896\n"
     ]
    }
   ],
   "source": [
    "# CONJUNTO DE TESTEO\n",
    "\n",
    "if __name__ == '__main__':\n",
    "    inputsTest = test_noisyImage[1]\n",
    "    inputsTest = np.stack((inputsTest,)*3, axis=-3)\n",
    "    inputsTest = torch.Tensor(inputsTest)\n",
    "    outTest = unet(inputsTest)\n",
    "    \n",
    "gTtest = test_groundTruth[1]\n",
    "gTtest = np.expand_dims((gTtest,)*3, axis=-3)\n",
    "gTtest = torch.Tensor(gTtest)\n",
    "\n",
    "inputsTest_np = inputsTest.detach().numpy()\n",
    "outTest_np = outTest.detach().numpy()\n",
    "gTtest_np = gTtest.detach().numpy()\n",
    "\n",
    "# MSE antes y dsp\n",
    "\n",
    "MSE_orig = MSE(inputsTest_np[0,0,:,:],gTtest_np[0,0,:,:])\n",
    "MSE_test = MSE(outTest_np[0,0,:,:],gTtest_np[0,0,:,:])\n",
    "\n",
    "print('MSE orig', MSE_orig)\n",
    "print('MSE test', MSE_test)"
   ]
  },
  {
   "cell_type": "code",
   "execution_count": 25,
   "id": "e1d97d82",
   "metadata": {},
   "outputs": [
    {
     "data": {
      "text/plain": [
       "<matplotlib.image.AxesImage at 0x21cb7d14488>"
      ]
     },
     "execution_count": 25,
     "metadata": {},
     "output_type": "execute_result"
    },
    {
     "data": {
      "image/png": "[encoded data removed]",
      "text/plain": [
       "<Figure size 432x288 with 1 Axes>"
      ]
     },
     "metadata": {
      "needs_background": "light"
     },
     "output_type": "display_data"
    }
   ],
   "source": [
    "plt.imshow(inputsTest_np[0,0,:,:] ,vmin = 0, vmax = scaleForVisualization )"
   ]
  },
  {
   "cell_type": "code",
   "execution_count": 24,
   "id": "913333b3",
   "metadata": {},
   "outputs": [
    {
     "data": {
      "text/plain": [
       "<matplotlib.image.AxesImage at 0x21cb7667f88>"
      ]
     },
     "execution_count": 24,
     "metadata": {},
     "output_type": "execute_result"
    },
    {
     "data": {
      "image/png": "[encoded data removed]",
      "text/plain": [
       "<Figure size 432x288 with 1 Axes>"
      ]
     },
     "metadata": {
      "needs_background": "light"
     },
     "output_type": "display_data"
    }
   ],
   "source": [
    "plt.imshow(outTest_np[0,0,:,:] ,vmin = 0, vmax = scaleForVisualization )"
   ]
  },
  {
   "cell_type": "code",
   "execution_count": null,
   "id": "674673e2",
   "metadata": {},
   "outputs": [],
   "source": []
  }
 ],
 "metadata": {
  "kernelspec": {
   "display_name": "Python 3 (ipykernel)",
   "language": "python",
   "name": "python3"
  },
  "language_info": {
   "codemirror_mode": {
    "name": "ipython",
    "version": 3
   },
   "file_extension": ".py",
   "mimetype": "text/x-python",
   "name": "python",
   "nbconvert_exporter": "python",
   "pygments_lexer": "ipython3",
   "version": "3.7.9"
  }
 },
 "nbformat": 4,
 "nbformat_minor": 5
}
