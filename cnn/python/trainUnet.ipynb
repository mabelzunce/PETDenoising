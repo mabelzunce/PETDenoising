{
 "cells": [
  {
   "cell_type": "code",
   "execution_count": 1,
   "id": "756ef75e",
   "metadata": {},
   "outputs": [],
   "source": [
    "import nibabel as nb\n",
    "import SimpleITK as sitk\n",
    "import matplotlib.pyplot as plt\n",
    "import numpy as np \n",
    "\n",
    "import torch \n",
    "import torchvision\n",
    "import torchvision.transforms as transforms\n",
    "import torch.optim as optim\n",
    "\n",
    "from torch import nn\n",
    "from torch.utils.data import DataLoader\n",
    "from torch.utils.tensorboard import SummaryWriter\n",
    "\n",
    "from sklearn.model_selection import train_test_split\n",
    "from datetime import datetime"
   ]
  },
  {
   "cell_type": "code",
   "execution_count": 2,
   "id": "cbdc56a1",
   "metadata": {},
   "outputs": [],
   "source": [
    "#Unet CLASICA (nuevo formato)\n",
    "\n",
    "class DownConv(nn.Module):\n",
    "    \n",
    "    def __init__(self, in_channels , out_channels):\n",
    "        super(DownConv, self).__init__()\n",
    "        self.DownLayer = nn.Sequential(\n",
    "\n",
    "            torch.nn.Conv2d(in_channels, out_channels, kernel_size=3, padding=1),\n",
    "            torch.nn.BatchNorm2d(out_channels),\n",
    "            torch.nn.ReLU(inplace = True),\n",
    "            torch.nn.Conv2d(out_channels, out_channels, kernel_size=3, padding=1),\n",
    "            torch.nn.BatchNorm2d(out_channels),\n",
    "            torch.nn.ReLU(inplace = True),\n",
    "        )\n",
    "        \n",
    "    def forward(self, x ):\n",
    "        x = self.DownLayer(x)\n",
    "        return x\n",
    "    \n",
    "        \n",
    "class MaxPool(nn.Module):\n",
    "    def __init__(self):\n",
    "        super(MaxPool, self).__init__()\n",
    "        self.Pool = torch.nn.MaxPool2d(kernel_size = 2)\n",
    "        \n",
    "    def forward (self,x):\n",
    "        x = self.Pool(x)\n",
    "        return x\n",
    "    \n",
    "        \n",
    "class UpConv(nn.Module):\n",
    "    \n",
    "    def __init__(self, in_channels , out_channels):\n",
    "        super(UpConv, self).__init__()\n",
    "        \n",
    "        self.ConvTransp = torch.nn.Upsample(scale_factor=2, mode='bilinear', align_corners=True)\n",
    "        #self.ConvTransp = torch.nn.ConvTranspose2d((in_channels//2), out_channels, kernel_size = 2, stride = 2, padding = 0)\n",
    "        self.UpConv = DownConv(in_channels, out_channels)\n",
    "        \n",
    "    def forward(self, xAnt , xDown):\n",
    "            \n",
    "        layerConvTransposed = self.ConvTransp(xAnt)\n",
    "        concat = torch.cat([layerConvTransposed,xDown], dim=1)\n",
    "        x = self.UpConv(concat)\n",
    "            \n",
    "        return x\n",
    "\n",
    "class OutUnet(nn.Module):\n",
    "    def __init__(self, in_channels , out_channels):\n",
    "        super(OutUnet, self).__init__()\n",
    "        self.OutUnet = torch.nn.Conv2d(in_channels,out_channels, kernel_size = 1)\n",
    "        \n",
    "    def forward(self,x):\n",
    "        x = self.OutUnet(x)\n",
    "        return x\n",
    "\n",
    "class Unet(nn.Module):\n",
    "    \n",
    "    def __init__(self):\n",
    "        super(Unet,self).__init__()\n",
    "        \n",
    "        # Contract\n",
    "        self.Layer1Down = DownConv(1,64)\n",
    "        self.Layer2Down = DownConv(64,128)\n",
    "        self.Layer3Down = DownConv(128,256)\n",
    "        self.Layer4Down = DownConv(256,512)\n",
    "        \n",
    "        self.Middle = DownConv(512,512)\n",
    "        \n",
    "        self.Layer1Up = UpConv(1024,256)\n",
    "        self.Layer2Up = UpConv(512,128)\n",
    "        self.Layer3Up = UpConv(256,64)\n",
    "        self.Layer4Up = UpConv(128,64)\n",
    "        \n",
    "        self.MaxPool = MaxPool()\n",
    "        \n",
    "        self.Out = OutUnet(64,1)\n",
    "        \n",
    "        \n",
    "    \n",
    "    def forward(self, x):\n",
    "\n",
    "        # Down\n",
    "        conv1 = self.Layer1Down(x)\n",
    "        maxPool1 = self.MaxPool(conv1)\n",
    "        \n",
    "        conv2 = self.Layer2Down(maxPool1)\n",
    "        maxPool2 = self.MaxPool(conv2)\n",
    "        \n",
    "        conv3 = self.Layer3Down(maxPool2)\n",
    "        maxPool3 = self.MaxPool(conv3)\n",
    "        \n",
    "        conv4 = self.Layer4Down(maxPool3)\n",
    "        maxPool4 = self.MaxPool(conv4)\n",
    "        \n",
    "        middle = self.Middle(maxPool4)\n",
    "        \n",
    "        # Up\n",
    "        up1= self.Layer1Up(middle,conv4)\n",
    "        up2= self.Layer2Up(up1,conv3)\n",
    "        up3= self.Layer3Up(up2,conv2)\n",
    "        up4= self.Layer4Up(up3,conv1)\n",
    "        \n",
    "        outUNet = self.Out(up4)\n",
    "        \n",
    "        return outUNet\n",
    "\n",
    "unet = Unet()"
   ]
  },
  {
   "cell_type": "code",
   "execution_count": 3,
   "id": "5ea044b4",
   "metadata": {},
   "outputs": [
    {
     "name": "stdout",
     "output_type": "stream",
     "text": [
      "noisyDataSet1 shape: (1726, 344, 344)\n",
      "noisyDataSet2 shape: (1726, 344, 344)\n",
      "groundTruth shape: (1726, 344, 344)\n"
     ]
    }
   ],
   "source": [
    "# Importo base de datos\n",
    "\n",
    "noisyDataSet1_nii = sitk.ReadImage('./noisyDataSet1.nii')\n",
    "img_noisyDataSet1 = sitk.GetArrayFromImage(noisyDataSet1_nii)\n",
    "\n",
    "noisyDataSet2_nii = sitk.ReadImage('./noisyDataSet2.nii')\n",
    "img_noisyDataSet2 = sitk.GetArrayFromImage(noisyDataSet2_nii)\n",
    "\n",
    "groundTruth_nii = sitk.ReadImage('./groundTruth.nii')\n",
    "img_groundTruth = sitk.GetArrayFromImage(groundTruth_nii)\n",
    "\n",
    "print(\"noisyDataSet1 shape:\",img_noisyDataSet1.shape)\n",
    "print(\"noisyDataSet2 shape:\",img_noisyDataSet2.shape)\n",
    "print(\"groundTruth shape:\",img_groundTruth.shape)"
   ]
  },
  {
   "cell_type": "code",
   "execution_count": 4,
   "id": "2520a40d",
   "metadata": {},
   "outputs": [
    {
     "name": "stdout",
     "output_type": "stream",
     "text": [
      "(1726, 3, 256, 256)\n",
      "(1726, 3, 256, 256)\n",
      "(1726, 3, 256, 256)\n"
     ]
    }
   ],
   "source": [
    "# Reshape for training\n",
    "\n",
    "img_noisyDataSet1 =img_noisyDataSet1[:,44:300,44:300]\n",
    "img_noisyDataSet2 =img_noisyDataSet2[:,44:300,44:300]\n",
    "img_groundTruth =img_groundTruth[:,44:300,44:300]\n",
    "\n",
    "img_noisyDataSet1 = np.stack((img_noisyDataSet1,)*3, axis=-3)\n",
    "img_noisyDataSet2 = np.stack((img_noisyDataSet2,)*3, axis=-3)\n",
    "img_groundTruth = np.stack((img_groundTruth,)*3 ,axis=-3)\n",
    "\n",
    "print(img_noisyDataSet1.shape)\n",
    "print(img_noisyDataSet2.shape)\n",
    "print(img_groundTruth.shape)"
   ]
  },
  {
   "cell_type": "code",
   "execution_count": 5,
   "id": "edd773de",
   "metadata": {},
   "outputs": [],
   "source": [
    "# Acoto conjuntos (OPCIONAL)\n",
    "\n",
    "img_noisyDataSet1 =img_noisyDataSet1[30:50,:,:,:]\n",
    "img_noisyDataSet2 =img_noisyDataSet2[30:50,:,:,:]\n",
    "img_groundTruth =img_groundTruth[30:50,:,:,:]"
   ]
  },
  {
   "cell_type": "code",
   "execution_count": 6,
   "id": "6eb18a7f",
   "metadata": {},
   "outputs": [],
   "source": [
    "# Conjunto de entrenamiento, testeo y validacion\n",
    "\n",
    "train_noisyImage,test_noisyImage,train_groundTruth,test_groundTruth = train_test_split(img_noisyDataSet1, img_groundTruth, test_size=0.2)\n",
    "\n",
    "valid_noisyImage = train_noisyImage[-5:,:,:,:]\n",
    "valid_groundTruth = train_groundTruth[-5:,:,:,:]\n",
    "\n",
    "train_noisyImage = train_noisyImage [:-5,:,:,:]\n",
    "train_groundTruth = train_groundTruth[:-5:,:,:,:]"
   ]
  },
  {
   "cell_type": "code",
   "execution_count": 7,
   "id": "c42b9929",
   "metadata": {},
   "outputs": [],
   "source": [
    "# Error cuadratico medio entre 2 imgs\n",
    "def MSE(img1, img2):\n",
    "        cuadradoDeDif = ((img1 -img2) ** 2)\n",
    "        suma = np.sum(cuadradoDeDif)\n",
    "        cantPix = img1.shape[0] * img1.shape[1] \n",
    "        error = suma / cantPix\n",
    "        return error"
   ]
  },
  {
   "cell_type": "code",
   "execution_count": 9,
   "id": "f8288a7b",
   "metadata": {},
   "outputs": [
    {
     "name": "stdout",
     "output_type": "stream",
     "text": [
      "MSE orig 0.3827858865261078\n",
      "MSE test 3.0068702697753906\n"
     ]
    }
   ],
   "source": [
    "# Prueba con un slice \n",
    "if __name__ == '__main__':\n",
    "    inputs = train_noisyImage[5]\n",
    "    inputs = np.expand_dims(inputs, axis=-3)\n",
    "    inputs = torch.Tensor(inputs)\n",
    "    out = unet(inputs)\n",
    "    \n",
    "gT = train_groundTruth[5]\n",
    "gT = np.expand_dims(gT, axis=-3)\n",
    "gT = torch.Tensor(gT)\n",
    "\n",
    "inputs_np = inputs.detach().numpy()\n",
    "out_np = out.detach().numpy()\n",
    "gT_np = gT.detach().numpy()\n",
    "\n",
    "MSE_orig = MSE(inputs_np[0,0,:,:],gT_np[0,0,:,:])\n",
    "MSE_test = MSE(out_np[0,0,:,:],gT_np[0,0,:,:])\n",
    "\n",
    "print('MSE orig', MSE_orig)\n",
    "print('MSE test', MSE_test)\n",
    "\n",
    "\n",
    "# Guardar imgs en formato .nii\n",
    "\n",
    "img_inputs = sitk.GetImageFromArray(inputs_np[0,0,:,:])\n",
    "sitk.WriteImage(img_inputs,'inputsNoTrain.nii')\n",
    "\n",
    "img_out = sitk.GetImageFromArray(out_np[0,0,:,:])\n",
    "sitk.WriteImage(img_out,'outNoTrain.nii')\n",
    "\n",
    "img_gT = sitk.GetImageFromArray(gT_np[0,0,:,:])\n",
    "sitk.WriteImage(img_gT,'groundTruthNoTrain.nii')"
   ]
  },
  {
   "cell_type": "code",
   "execution_count": 10,
   "id": "7be81987",
   "metadata": {},
   "outputs": [],
   "source": [
    "# Entrenamiento #\n",
    "\n",
    "# Loss and optimizer\n",
    "\n",
    "criterion = nn.MSELoss()\n",
    "optimizer = optim.Adam(unet.parameters(), lr=0.0001)"
   ]
  },
  {
   "cell_type": "code",
   "execution_count": 13,
   "id": "d88ffc08",
   "metadata": {},
   "outputs": [],
   "source": [
    "# Codigo de pag Pythorch\n",
    "def train_one_epoch(epoch_index, tb_writer):\n",
    "    running_loss = 0.\n",
    "    last_loss = 0.\n",
    "    \n",
    "    for i in range(0, train_noisyImage.shape[0]):\n",
    "        \n",
    "        # Acondicionamiento de datos\n",
    "        \n",
    "        inputs = train_noisyImage[i]\n",
    "        inputs = np.expand_dims(inputs, axis=-3)\n",
    "        inputs = torch.Tensor(inputs)\n",
    "        \n",
    "        trainGroundTruth = train_groundTruth[i]\n",
    "        trainGroundTruth = np.expand_dims(trainGroundTruth, axis=-3)\n",
    "        trainGroundTruth = torch.Tensor(trainGroundTruth)\n",
    "\n",
    "        # zero the parameter gradients\n",
    "        optimizer.zero_grad()\n",
    "\n",
    "        # forward + backward + optimize\n",
    "        outputs = unet(inputs)\n",
    "        loss = criterion(outputs, trainGroundTruth)\n",
    "\n",
    "        loss.backward()\n",
    "\n",
    "        # Adjust learning weights\n",
    "        optimizer.step()\n",
    "\n",
    "        # Gather data and report\n",
    "        running_loss += loss.item()\n",
    "        \n",
    "        if i % 10 == 9:\n",
    "            last_loss = running_loss / 10 # loss en las ultimas 10 imagenes\n",
    "            print('  image {} loss: {}'.format(i + 1, last_loss))\n",
    "            tb_x = epoch_index * ((train_noisyImage.shape[0])/10) + i + 1\n",
    "            tb_writer.add_scalar('Loss/train', last_loss, tb_x)\n",
    "            running_loss = 0.\n",
    "\n",
    "    return last_loss"
   ]
  },
  {
   "cell_type": "code",
   "execution_count": 28,
   "id": "c0e08913",
   "metadata": {},
   "outputs": [
    {
     "name": "stdout",
     "output_type": "stream",
     "text": [
      "EPOCH 1:\n",
      "  image 10 loss: 0.13220643252134323\n",
      "LOSS train 0.13220643252134323 valid 0.13548702001571655\n",
      "EPOCH 2:\n",
      "  image 10 loss: 0.12777021080255507\n",
      "LOSS train 0.12777021080255507 valid 0.13316017389297485\n",
      "EPOCH 3:\n",
      "  image 10 loss: 0.12408894374966621\n",
      "LOSS train 0.12408894374966621 valid 0.13308179378509521\n",
      "EPOCH 4:\n",
      "  image 10 loss: 0.12099045738577843\n",
      "LOSS train 0.12099045738577843 valid 0.13086946308612823\n",
      "EPOCH 5:\n",
      "  image 10 loss: 0.11864032819867135\n",
      "LOSS train 0.11864032819867135 valid 0.13480742275714874\n",
      "EPOCH 6:\n",
      "  image 10 loss: 0.1156287781894207\n",
      "LOSS train 0.1156287781894207 valid 0.13730493187904358\n",
      "EPOCH 7:\n",
      "  image 10 loss: 0.11436976045370102\n",
      "LOSS train 0.11436976045370102 valid 0.12546175718307495\n",
      "EPOCH 8:\n",
      "  image 10 loss: 0.11302405521273613\n",
      "LOSS train 0.11302405521273613 valid 0.1353413164615631\n",
      "EPOCH 9:\n",
      "  image 10 loss: 0.11076750904321671\n",
      "LOSS train 0.11076750904321671 valid 0.13493329286575317\n",
      "EPOCH 10:\n",
      "  image 10 loss: 0.10945217460393905\n",
      "LOSS train 0.10945217460393905 valid 0.12823426723480225\n"
     ]
    }
   ],
   "source": [
    "# Initializing in a separate cell so we can easily add more epochs to the same run\n",
    "\n",
    "timestamp = datetime.now().strftime('%Y%m%d_%H%M%S')\n",
    "writer = SummaryWriter('runs/fashion_trainer_{}'.format(timestamp))\n",
    "epoch_number = 0\n",
    "\n",
    "loss_values=[]\n",
    "\n",
    "EPOCHS = 10\n",
    "\n",
    "best_vloss = 1_000_000.\n",
    "\n",
    "for epoch in range(EPOCHS):\n",
    "    print('EPOCH {}:'.format(epoch_number + 1))\n",
    "\n",
    "    # Make sure gradient tracking is on, and do a pass over the data\n",
    "    unet.train(True)\n",
    "    avg_loss = train_one_epoch(epoch_number, writer)\n",
    "    \n",
    "    loss_values.append(avg_loss / (train_noisyImage.shape[0]))\n",
    "\n",
    "    # We don't need gradients on to do reporting\n",
    "    unet.train(False)\n",
    "\n",
    "    running_vloss = 0.0\n",
    "    for i in range(0, valid_noisyImage.shape[0]):\n",
    "        \n",
    "        vinputs = valid_noisyImage[i]\n",
    "        vinputs = np.expand_dims(vinputs, axis=-3)\n",
    "        vinputs = torch.Tensor(vinputs)\n",
    "        \n",
    "        validGroundTruth = valid_groundTruth[i]\n",
    "        validGroundTruth = np.expand_dims(validGroundTruth, axis=-3)\n",
    "        validGroundTruth = torch.Tensor(validGroundTruth)\n",
    "        \n",
    "        voutputs = unet(vinputs)\n",
    "        vloss =  criterion(voutputs, validGroundTruth)\n",
    "        running_vloss += vloss\n",
    "\n",
    "    avg_vloss = running_vloss / (i + 1)\n",
    "    print('LOSS train {} valid {}'.format(avg_loss, avg_vloss))\n",
    "\n",
    "    # Log the running loss averaged per batch\n",
    "    # for both training and validation\n",
    "    writer.add_scalars('Training vs. Validation Loss',\n",
    "                    { 'Training' : avg_loss, 'Validation' : avg_vloss },\n",
    "                    epoch_number + 1)\n",
    "    writer.flush()\n",
    "\n",
    "    # Track best performance, and save the model's state\n",
    "    if avg_vloss < best_vloss:\n",
    "        best_vloss = avg_vloss\n",
    "        unet_path = 'model_{}_{}'.format(timestamp, epoch_number)\n",
    "        torch.save(unet.state_dict(), unet_path)\n",
    "\n",
    "    epoch_number += 1"
   ]
  },
  {
   "cell_type": "code",
   "execution_count": 29,
   "id": "bc72f69d",
   "metadata": {},
   "outputs": [
    {
     "data": {
      "text/plain": [
       "[<matplotlib.lines.Line2D at 0x2316b2b6048>]"
      ]
     },
     "execution_count": 29,
     "metadata": {},
     "output_type": "execute_result"
    },
    {
     "data": {
      "image/png": "[encoded data removed]",
      "text/plain": [
       "<Figure size 432x288 with 1 Axes>"
      ]
     },
     "metadata": {
      "needs_background": "light"
     },
     "output_type": "display_data"
    }
   ],
   "source": [
    "plt.plot(loss_values)"
   ]
  },
  {
   "cell_type": "code",
   "execution_count": 18,
   "id": "7b5f5b32",
   "metadata": {},
   "outputs": [
    {
     "name": "stdout",
     "output_type": "stream",
     "text": [
      "Conjunto de entrenamiento\n",
      "MSE orig 0.2862440049648285\n",
      "MSE UNet 0.11735019087791443\n",
      "Conjunto de testeo\n",
      "MSE orig 0.37879228591918945\n",
      "MSE UNet 0.1486818939447403\n"
     ]
    }
   ],
   "source": [
    "## PRUEBAS ##\n",
    "\n",
    "\n",
    "# CONJUNTO DE ENTRENAMIENTO\n",
    "\n",
    "if __name__ == '__main__':\n",
    "    inputsTrain = train_noisyImage[1]\n",
    "    inputsTrain = np.expand_dims(inputsTrain, axis=-3)\n",
    "    inputsTrain = torch.Tensor(inputsTrain)\n",
    "    model = Unet()\n",
    "    outTrain = unet(inputsTrain)\n",
    "    \n",
    "gTtrain = train_groundTruth[1]\n",
    "gTtrain = np.expand_dims(gTtrain, axis=-3)\n",
    "gTtrain = torch.Tensor(gTtrain)\n",
    "\n",
    "inputsTrain_np = inputsTrain.detach().numpy()\n",
    "outTrain_np = outTrain.detach().numpy()\n",
    "gTtrain_np = gTtrain.detach().numpy()\n",
    "\n",
    "# MSE antes y dsp\n",
    "\n",
    "MSE_orig = MSE(inputsTrain_np[0,0,:,:],gTtrain_np[0,0,:,:])\n",
    "MSE_test = MSE(outTrain_np[0,0,:,:],gTtrain_np[0,0,:,:])\n",
    "\n",
    "print('Conjunto de entrenamiento')\n",
    "print('MSE orig', MSE_orig)\n",
    "print('MSE UNet', MSE_test)\n",
    "\n",
    "# Guardar imgs en formato .nii\n",
    "\n",
    "img_inputs = sitk.GetImageFromArray(inputsTrain_np[0,0,:,:])\n",
    "sitk.WriteImage(img_inputs,'inputsTrain.nii')\n",
    "\n",
    "img_out = sitk.GetImageFromArray(outTrain_np[0,0,:,:])\n",
    "sitk.WriteImage(img_out,'outTrain.nii')\n",
    "\n",
    "img_gTtest = sitk.GetImageFromArray(gTtrain_np[0,0,:,:])\n",
    "sitk.WriteImage(img_gT,'groundTruthtrain.nii')\n",
    "\n",
    "# CONJUNTO DE TESTEO\n",
    "\n",
    "if __name__ == '__main__':\n",
    "    inputsTest = test_noisyImage[1]\n",
    "    inputsTest = np.expand_dims(inputsTest, axis=-3)\n",
    "    inputsTest = torch.Tensor(inputsTest)\n",
    "    model = Unet()\n",
    "    outTest = unet(inputsTest)\n",
    "    \n",
    "gTtest = test_groundTruth[1]\n",
    "gTtest = np.expand_dims(gTtest, axis=-3)\n",
    "gTtest = torch.Tensor(gTtest)\n",
    "\n",
    "inputsTest_np = inputsTest.detach().numpy()\n",
    "outTest_np = outTest.detach().numpy()\n",
    "gTtest_np = gTtest.detach().numpy()\n",
    "\n",
    "# MSE antes y dsp\n",
    "\n",
    "MSE_orig = MSE(inputsTest_np[0,0,:,:],gTtest_np[0,0,:,:])\n",
    "MSE_test = MSE(outTest_np[0,0,:,:],gTtest_np[0,0,:,:])\n",
    "\n",
    "print('Conjunto de testeo')\n",
    "print('MSE orig', MSE_orig)\n",
    "print('MSE UNet', MSE_test)\n",
    "\n",
    "# Guardar imgs en formato .nii\n",
    "\n",
    "img_inputs = sitk.GetImageFromArray(inputsTest_np[0,0,:,:])\n",
    "sitk.WriteImage(img_inputs,'inputsTest.nii')\n",
    "\n",
    "img_out = sitk.GetImageFromArray(outTest_np[0,0,:,:])\n",
    "sitk.WriteImage(img_out,'outTest.nii')\n",
    "\n",
    "img_gTtest = sitk.GetImageFromArray(gTtest_np[0,0,:,:])\n",
    "sitk.WriteImage(img_gT,'groundTruthtest.nii')"
   ]
  },
  {
   "cell_type": "code",
   "execution_count": 20,
   "id": "be957b4d",
   "metadata": {},
   "outputs": [],
   "source": [
    "scaleForVisualization = 1.2*gT_np.max()"
   ]
  },
  {
   "cell_type": "code",
   "execution_count": 21,
   "id": "526595f3",
   "metadata": {},
   "outputs": [
    {
     "data": {
      "text/plain": [
       "<matplotlib.image.AxesImage at 0x2302209fe08>"
      ]
     },
     "execution_count": 21,
     "metadata": {},
     "output_type": "execute_result"
    },
    {
     "data": {
      "image/png": "[encoded data removed]",
      "text/plain": [
       "<Figure size 432x288 with 1 Axes>"
      ]
     },
     "metadata": {
      "needs_background": "light"
     },
     "output_type": "display_data"
    }
   ],
   "source": [
    "plt.imshow(inputsTrain_np[0,0,:,:] , vmin = 0, vmax = scaleForVisualization)"
   ]
  },
  {
   "cell_type": "code",
   "execution_count": 22,
   "id": "43c44713",
   "metadata": {},
   "outputs": [
    {
     "data": {
      "text/plain": [
       "<matplotlib.image.AxesImage at 0x23010808d48>"
      ]
     },
     "execution_count": 22,
     "metadata": {},
     "output_type": "execute_result"
    },
    {
     "data": {
      "image/png": "[encoded data removed]",
      "text/plain": [
       "<Figure size 432x288 with 1 Axes>"
      ]
     },
     "metadata": {
      "needs_background": "light"
     },
     "output_type": "display_data"
    }
   ],
   "source": [
    "plt.imshow(outTrain_np[0,0,:,:] ,vmin = 0, vmax = scaleForVisualization )"
   ]
  },
  {
   "cell_type": "code",
   "execution_count": 23,
   "id": "8df94efb",
   "metadata": {},
   "outputs": [
    {
     "data": {
      "text/plain": [
       "<matplotlib.image.AxesImage at 0x230220eabc8>"
      ]
     },
     "execution_count": 23,
     "metadata": {},
     "output_type": "execute_result"
    },
    {
     "data": {
      "image/png": "[encoded data removed]",
      "text/plain": [
       "<Figure size 432x288 with 1 Axes>"
      ]
     },
     "metadata": {
      "needs_background": "light"
     },
     "output_type": "display_data"
    }
   ],
   "source": [
    "plt.imshow(inputsTest_np[0,0,:,:] ,vmin = 0, vmax = scaleForVisualization )"
   ]
  },
  {
   "cell_type": "code",
   "execution_count": 24,
   "id": "b197a2af",
   "metadata": {},
   "outputs": [
    {
     "data": {
      "text/plain": [
       "<matplotlib.image.AxesImage at 0x23022163ac8>"
      ]
     },
     "execution_count": 24,
     "metadata": {},
     "output_type": "execute_result"
    },
    {
     "data": {
      "image/png": "[encoded data removed]",
      "text/plain": [
       "<Figure size 432x288 with 1 Axes>"
      ]
     },
     "metadata": {
      "needs_background": "light"
     },
     "output_type": "display_data"
    }
   ],
   "source": [
    "plt.imshow(outTest_np[0,0,:,:] ,vmin = 0, vmax = scaleForVisualization )"
   ]
  }
 ],
 "metadata": {
  "kernelspec": {
   "display_name": "Python 3 (ipykernel)",
   "language": "python",
   "name": "python3"
  },
  "language_info": {
   "codemirror_mode": {
    "name": "ipython",
    "version": 3
   },
   "file_extension": ".py",
   "mimetype": "text/x-python",
   "name": "python",
   "nbconvert_exporter": "python",
   "pygments_lexer": "ipython3",
   "version": "3.7.6"
  }
 },
 "nbformat": 4,
 "nbformat_minor": 5
}
