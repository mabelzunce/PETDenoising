{
 "cells": [
  {
   "cell_type": "code",
   "execution_count": 1,
   "id": "756ef75e",
   "metadata": {},
   "outputs": [],
   "source": [
    "import nibabel as nb\n",
    "import SimpleITK as sitk\n",
    "import matplotlib.pyplot as plt\n",
    "import numpy as np \n",
    "\n",
    "import torch \n",
    "import torchvision\n",
    "import torchvision.transforms as transforms\n",
    "import torch.optim as optim\n",
    "\n",
    "from torch import nn\n",
    "from torch.utils.data import DataLoader\n",
    "from torch.utils.tensorboard import SummaryWriter\n",
    "\n",
    "from sklearn.model_selection import train_test_split\n",
    "from datetime import datetime\n",
    "\n",
    "import utils"
   ]
  },
  {
   "cell_type": "code",
   "execution_count": 2,
   "id": "cbdc56a1",
   "metadata": {},
   "outputs": [],
   "source": [
    "#Unet CLASICA (nuevo formato)\n",
    "\n",
    "class DownConv(nn.Module):\n",
    "    \n",
    "    def __init__(self, in_channels , out_channels):\n",
    "        super(DownConv, self).__init__()\n",
    "        self.DownLayer = nn.Sequential(\n",
    "\n",
    "            torch.nn.Conv2d(in_channels, out_channels, kernel_size=3, padding=1),\n",
    "            torch.nn.BatchNorm2d(out_channels),\n",
    "            torch.nn.ReLU(inplace = True),\n",
    "            torch.nn.Conv2d(out_channels, out_channels, kernel_size=3, padding=1),\n",
    "            torch.nn.BatchNorm2d(out_channels),\n",
    "            torch.nn.ReLU(inplace = True),\n",
    "        )\n",
    "        \n",
    "    def forward(self, x ):\n",
    "        x = self.DownLayer(x)\n",
    "        return x\n",
    "    \n",
    "        \n",
    "class MaxPool(nn.Module):\n",
    "    def __init__(self):\n",
    "        super(MaxPool, self).__init__()\n",
    "        self.Pool = torch.nn.MaxPool2d(kernel_size = 2)\n",
    "        \n",
    "    def forward (self,x):\n",
    "        x = self.Pool(x)\n",
    "        return x\n",
    "    \n",
    "        \n",
    "class UpConv(nn.Module):\n",
    "    \n",
    "    def __init__(self, in_channels , out_channels):\n",
    "        super(UpConv, self).__init__()\n",
    "        \n",
    "        self.ConvTransp = torch.nn.Upsample(scale_factor=2, mode='bilinear', align_corners=True)\n",
    "        #self.ConvTransp = torch.nn.ConvTranspose2d((in_channels//2), out_channels, kernel_size = 2, stride = 2, padding = 0)\n",
    "        self.UpConv = DownConv(in_channels, out_channels)\n",
    "        \n",
    "    def forward(self, xAnt , xDown):\n",
    "            \n",
    "        layerConvTransposed = self.ConvTransp(xAnt)\n",
    "        concat = torch.cat([layerConvTransposed,xDown], dim=1)\n",
    "        x = self.UpConv(concat)\n",
    "            \n",
    "        return x\n",
    "\n",
    "class OutUnet(nn.Module):\n",
    "    def __init__(self, in_channels , out_channels):\n",
    "        super(OutUnet, self).__init__()\n",
    "        self.OutUnet = torch.nn.Conv2d(in_channels,out_channels, kernel_size = 1)\n",
    "        \n",
    "    def forward(self,x):\n",
    "        x = self.OutUnet(x)\n",
    "        return x\n",
    "\n",
    "class Unet(nn.Module):\n",
    "    \n",
    "    def __init__(self):\n",
    "        super(Unet,self).__init__()\n",
    "        \n",
    "        # Contract\n",
    "        self.Layer1Down = DownConv(1,32)\n",
    "        self.Layer2Down = DownConv(32,64)\n",
    "        self.Layer3Down = DownConv(64,128)\n",
    "        self.Layer4Down = DownConv(128,256)\n",
    "        self.Layer5Down = DownConv(256,512)\n",
    "        \n",
    "        self.Middle = DownConv(512,512)\n",
    "        \n",
    "        self.Layer1Up = UpConv(1024,256)\n",
    "        self.Layer2Up = UpConv(512,128)\n",
    "        self.Layer3Up = UpConv(256,64)\n",
    "        self.Layer4Up = UpConv(128,64)\n",
    "        self.Layer5Up = UpConv(64+32,32)\n",
    "        \n",
    "        self.MaxPool = MaxPool()\n",
    "        \n",
    "        self.Out = OutUnet(32,1)\n",
    "        \n",
    "        \n",
    "    \n",
    "    def forward(self, x):\n",
    "\n",
    "        # Down\n",
    "        conv1 = self.Layer1Down(x)\n",
    "        maxPool1 = self.MaxPool(conv1)\n",
    "        \n",
    "        conv2 = self.Layer2Down(maxPool1)\n",
    "        maxPool2 = self.MaxPool(conv2)\n",
    "        \n",
    "        conv3 = self.Layer3Down(maxPool2)\n",
    "        maxPool3 = self.MaxPool(conv3)\n",
    "        \n",
    "        conv4 = self.Layer4Down(maxPool3)\n",
    "        maxPool4 = self.MaxPool(conv4)\n",
    "        \n",
    "        conv5 = self.Layer5Down(maxPool4)\n",
    "        maxPool5 = self.MaxPool(conv5)\n",
    "        \n",
    "        middle = self.Middle(maxPool5)\n",
    "        \n",
    "        # Up\n",
    "        up1= self.Layer1Up(middle,conv5)\n",
    "        up2= self.Layer2Up(up1,conv4)\n",
    "        up3= self.Layer3Up(up2,conv3)\n",
    "        up4= self.Layer4Up(up3,conv2)\n",
    "        up5= self.Layer5Up(up4,conv1)\n",
    "        \n",
    "        outUNet = self.Out(up5)\n",
    "        \n",
    "        return outUNet\n",
    "\n",
    "unet = Unet()"
   ]
  },
  {
   "cell_type": "code",
   "execution_count": 3,
   "id": "4a2d261f",
   "metadata": {},
   "outputs": [],
   "source": [
    "def MSE(img1, img2):\n",
    "    cuadradoDeDif = ((img1 - img2) ** 2)\n",
    "    suma = np.sum(cuadradoDeDif)\n",
    "    cantPix = img1.shape[2] * img1.shape[1]  # img1 and 2 should have same shape\n",
    "    error = suma / cantPix\n",
    "    return error"
   ]
  },
  {
   "cell_type": "code",
   "execution_count": 4,
   "id": "5ea044b4",
   "metadata": {},
   "outputs": [
    {
     "name": "stdout",
     "output_type": "stream",
     "text": [
      "noisyDataSet1 shape: (1726, 344, 344)\n",
      "noisyDataSet2 shape: (1726, 344, 344)\n",
      "groundTruth shape: (1726, 344, 344)\n"
     ]
    }
   ],
   "source": [
    "# Importo base de datos\n",
    "\n",
    "noisyDataSet1_nii = sitk.ReadImage('./noisyDataSet1.nii')\n",
    "img_noisyDataSet1 = sitk.GetArrayFromImage(noisyDataSet1_nii)\n",
    "\n",
    "noisyDataSet2_nii = sitk.ReadImage('./noisyDataSet2.nii')\n",
    "img_noisyDataSet2 = sitk.GetArrayFromImage(noisyDataSet2_nii)\n",
    "\n",
    "groundTruth_nii = sitk.ReadImage('./groundTruth.nii')\n",
    "img_groundTruth = sitk.GetArrayFromImage(groundTruth_nii)\n",
    "\n",
    "print(\"noisyDataSet1 shape:\",img_noisyDataSet1.shape)\n",
    "print(\"noisyDataSet2 shape:\",img_noisyDataSet2.shape)\n",
    "print(\"groundTruth shape:\",img_groundTruth.shape)"
   ]
  },
  {
   "cell_type": "code",
   "execution_count": 5,
   "id": "2520a40d",
   "metadata": {},
   "outputs": [
    {
     "name": "stdout",
     "output_type": "stream",
     "text": [
      "(1726, 1, 256, 256)\n",
      "(1726, 1, 256, 256)\n",
      "(1726, 1, 256, 256)\n"
     ]
    }
   ],
   "source": [
    "# Reshape for training\n",
    "\n",
    "img_noisyDataSet1 =img_noisyDataSet1[:,44:300,44:300]\n",
    "img_noisyDataSet2 =img_noisyDataSet2[:,44:300,44:300]\n",
    "img_groundTruth =img_groundTruth[:,44:300,44:300]\n",
    "\n",
    "\n",
    "img_noisyDataSet1 = (np.expand_dims(img_noisyDataSet1, axis=-3)).astype(np.float32)\n",
    "img_noisyDataSet2 = (np.expand_dims(img_noisyDataSet2, axis=-3)).astype(np.float32)\n",
    "img_groundTruth = (np.expand_dims(img_groundTruth, axis=-3)).astype(np.float32)\n",
    "\n",
    "print(img_noisyDataSet1.shape)\n",
    "print(img_noisyDataSet2.shape)\n",
    "print(img_groundTruth.shape)"
   ]
  },
  {
   "cell_type": "code",
   "execution_count": 6,
   "id": "10c53685",
   "metadata": {},
   "outputs": [
    {
     "name": "stdout",
     "output_type": "stream",
     "text": [
      "0.2011082119708667\n",
      "0.3494163649155729\n"
     ]
    }
   ],
   "source": [
    "# MSE dataset promedio\n",
    "MSEdataSet1 = []\n",
    "MSEdataSet2 = []\n",
    "for i in range(0,img_noisyDataSet1.shape[0]):\n",
    "    img1 = img_groundTruth[i]\n",
    "    img2 = img_noisyDataSet1[i]\n",
    "    img3 = img_noisyDataSet2[i]\n",
    "    MSEdataSet1.append(MSE(img1,img2))\n",
    "    MSEdataSet2.append(MSE(img1,img3))\n",
    "\n",
    "print(np.mean(MSEdataSet1))\n",
    "print(np.mean(MSEdataSet2))"
   ]
  },
  {
   "cell_type": "code",
   "execution_count": 7,
   "id": "6eb18a7f",
   "metadata": {},
   "outputs": [
    {
     "name": "stdout",
     "output_type": "stream",
     "text": [
      "Data set size. Training set: 1208. Valid set: 518.\n"
     ]
    }
   ],
   "source": [
    "# Conjunto de entrenamiento, testeo y validacion\n",
    "\n",
    "train_noisyImage,valid_noisyImage,train_groundTruth,valid_groundTruth = train_test_split(img_noisyDataSet1, img_groundTruth, test_size=0.3)\n",
    "\n",
    "# Create dictionaries with training sets:\n",
    "trainingSet = dict([('input',train_noisyImage), ('output', train_groundTruth)])\n",
    "validSet = dict([('input',valid_noisyImage), ('output', valid_groundTruth)])\n",
    "\n",
    "print('Data set size. Training set: {0}. Valid set: {1}.'.format(trainingSet['input'].shape[0], validSet['input'].shape[0]))\n",
    "\n",
    "# Entrenamiento #\n",
    "\n",
    "# Loss and optimizer\n",
    "\n",
    "criterion = nn.MSELoss()\n",
    "optimizer = optim.Adam(unet.parameters(), lr=0.0001)"
   ]
  },
  {
   "cell_type": "code",
   "execution_count": null,
   "id": "ab85de4a",
   "metadata": {},
   "outputs": [
    {
     "name": "stdout",
     "output_type": "stream",
     "text": [
      "[1,     1] loss: 1.194\n",
      "[1,     2] loss: 0.377\n",
      "[1,     3] loss: 0.621\n",
      "[1,     4] loss: 0.353\n",
      "[1,     5] loss: 0.464\n",
      "[1,     6] loss: 0.321\n",
      "[1,     7] loss: 0.279\n",
      "[1,     8] loss: 0.394\n",
      "[1,     9] loss: 0.426\n",
      "[1,    10] loss: 0.328\n"
     ]
    }
   ],
   "source": [
    "# Entrenamiento #\n",
    "\n",
    "# Loss and optimizer\n",
    "\n",
    "criterion = nn.MSELoss()\n",
    "optimizer = optim.Adam(unet.parameters(), lr=0.0001)\n",
    "\n",
    "# Codigo entrenamiento Martin\n",
    "\n",
    "# defino batches\n",
    "\n",
    "best_vloss = 1000000000\n",
    "\n",
    "batchSizeTrain = 4\n",
    "batchSizeValid = 4\n",
    "numBatchesTrain = np.round(trainingSet['input'].shape[0] / batchSizeTrain).astype(int)\n",
    "numBatchesValid = np.round(validSet['input'].shape[0] / batchSizeValid).astype(int)\n",
    "\n",
    "# Show dev set loss every showDevLossStep batches:\n",
    "showDevLossStep = 4\n",
    "\n",
    "printStep = 1\n",
    "# figImages, axs = plt.subplots(3, 1,figsize=(20,20))\n",
    "# figLoss, axLoss = plt.subplots(1, 1,figsize=(5,5))\n",
    "\n",
    "timestamp = datetime.now().strftime('%Y%m%d_%H%M%S')\n",
    "# Train\n",
    "loss_values = []\n",
    "lossValuesTrainingSet = []\n",
    "iterationNumbers = []\n",
    "lossValuesDevSet = []\n",
    "iterationNumbersForDevSet = []\n",
    "lossValuesTrainingSetEpoch = []\n",
    "\n",
    "lossValuesEpoch = []\n",
    "lossValuesDevSetAllEpoch = []\n",
    "\n",
    "iter = 0\n",
    "\n",
    "EPOCHS = 20\n",
    "\n",
    "for epoch in range(EPOCHS):  # loop over the dataset multiple times\n",
    "    \n",
    "    lossValuesTrainingSetEpoch = []\n",
    "    lossValuesDevSetEpoch = []\n",
    "\n",
    "    running_loss = 0.0\n",
    "\n",
    "    unet.train(True)\n",
    "    for i in range(numBatchesTrain):\n",
    "        # get the inputs\n",
    "\n",
    "        inputs = torch.from_numpy(trainingSet['input'][i * batchSizeTrain:(i + 1) * batchSizeTrain, :, :, :])\n",
    "        gt = torch.from_numpy(trainingSet['output'][i * batchSizeTrain:(i + 1) * batchSizeTrain, :, :, :])\n",
    "\n",
    "        # zero the parameter gradients\n",
    "        optimizer.zero_grad()\n",
    "\n",
    "        # forward + backward + optimize\n",
    "        outputs = unet(inputs)\n",
    "        loss = criterion(outputs, gt)\n",
    "        loss.backward()\n",
    "        optimizer.step()\n",
    "\n",
    "        # print statistics\n",
    "        running_loss += loss.item()\n",
    "        # Save loss values:\n",
    "        lossValuesTrainingSet.append(loss.item())\n",
    "        lossValuesTrainingSetEpoch.append(loss.item())\n",
    "        iterationNumbers.append(iter)\n",
    "\n",
    "        if i % printStep == (printStep - 1):  # print every printStep mini-batches\n",
    "            print('[%d, %5d] loss: %.3f' %\n",
    "                  (epoch + 1, i + 1, running_loss))\n",
    "            running_loss = 0.0\n",
    "\n",
    "            # Show input images:\n",
    "            # plt.figure(figImages)\n",
    "            # plt.axes(axs[0])\n",
    "            # imshow(torchvision.utils.make_grid(inputs, normalize=True))\n",
    "            # axs[0].set_title('Input Batch {0}'.format(i))\n",
    "            # plt.axes(axs[1])\n",
    "            # imshow(torchvision.utils.make_grid(outputs, normalize=True))\n",
    "            # axs[1].set_title('Output Epoch {0}'.format(epoch))\n",
    "            # plt.axes(axs[2])\n",
    "            # imshow(torchvision.utils.make_grid(gt, normalize=True))\n",
    "            # axs[2].set_title('Ground Truth')\n",
    "            # Show loss:\n",
    "            # plt.figure(figLoss)\n",
    "            # axLoss.plot(iterationNumbers, lossValuesTrainingSet)\n",
    "            # axLoss.plot(iterationNumbersForDevSet, lossValuesDevSet)\n",
    "            # plt.draw()\n",
    "            # plt.pause(0.0001)\n",
    "\n",
    "            # Update iteration number:\n",
    "        iter = iter + 1\n",
    "\n",
    "    lossValuesEpoch.append(np.mean(lossValuesTrainingSetEpoch))\n",
    "    unet.train(False)\n",
    "    running_vloss = 0.0\n",
    "\n",
    "\n",
    "    for i in range(numBatchesValid):\n",
    "        print(i)\n",
    "\n",
    "        vinputs = torch.from_numpy(validSet['input'][i * batchSizeValid:(i + 1) * batchSizeValid, :, :, :])\n",
    "        vgt = torch.from_numpy(validSet['output'][i * batchSizeValid:(i + 1) * batchSizeValid, :, :, :])\n",
    "\n",
    "        voutputs = unet(vinputs)\n",
    "        vloss = criterion(voutputs, vgt)\n",
    "        vloss.backward()\n",
    "        running_vloss += vloss\n",
    "\n",
    "        lossValuesDevSet.append(vloss.item())\n",
    "        \n",
    "        lossValuesDevSetEpoch.append(vloss.item())\n",
    "\n",
    "\n",
    "    avg_vloss = np.mean(lossValuesDevSet)\n",
    "    lossValuesDevSetAllEpoch.append(np.mean(lossValuesDevSetEpoch))\n",
    "\n",
    "    if avg_vloss < best_vloss:\n",
    "        best_vloss = avg_vloss\n",
    "        model_path = 'model_{}_{}'.format(timestamp, epoch)\n",
    "        torch.save(unet.state_dict(), model_path)\n",
    "\n",
    "    print('LOSS train {} valid {}'.format(llossValuesDevSetAllEpoch[-1], lossValuesEpoch[-1]))\n",
    "    # CALCULAR PROMEDIO DE TODOS O VARIOS BATCH\n",
    "\n",
    "print('Finished Training')"
   ]
  },
  {
   "cell_type": "code",
   "execution_count": 10,
   "id": "1698dd77",
   "metadata": {},
   "outputs": [
    {
     "data": {
      "text/plain": [
       "Text(0, 0.5, 'Loss')"
      ]
     },
     "execution_count": 10,
     "metadata": {},
     "output_type": "execute_result"
    },
    {
     "data": {
      "image/png": "[encoded data removed]",
      "text/plain": [
       "<Figure size 432x288 with 1 Axes>"
      ]
     },
     "metadata": {
      "needs_background": "light"
     },
     "output_type": "display_data"
    }
   ],
   "source": [
    "plt.plot(lossValuesDevSet)\n",
    "plt.xlabel(\"Batch\", size = 16,)\n",
    "plt.ylabel(\"Loss\", size = 16)"
   ]
  },
  {
   "cell_type": "code",
   "execution_count": 11,
   "id": "0b2c258f",
   "metadata": {},
   "outputs": [
    {
     "data": {
      "text/plain": [
       "Text(0, 0.5, 'Loss')"
      ]
     },
     "execution_count": 11,
     "metadata": {},
     "output_type": "execute_result"
    },
    {
     "data": {
      "image/png": "[encoded data removed]",
      "text/plain": [
       "<Figure size 432x288 with 1 Axes>"
      ]
     },
     "metadata": {
      "needs_background": "light"
     },
     "output_type": "display_data"
    }
   ],
   "source": [
    "plt.plot(lossValuesTrainingSet)\n",
    "plt.xlabel(\"Batch\", size = 16,)\n",
    "plt.ylabel(\"Loss\", size = 16)"
   ]
  },
  {
   "cell_type": "code",
   "execution_count": 12,
   "id": "f5a8b246",
   "metadata": {},
   "outputs": [
    {
     "data": {
      "text/plain": [
       "Text(0, 0.5, 'Loss')"
      ]
     },
     "execution_count": 12,
     "metadata": {},
     "output_type": "execute_result"
    },
    {
     "data": {
      "image/png": "[encoded data removed]",
      "text/plain": [
       "<Figure size 432x288 with 1 Axes>"
      ]
     },
     "metadata": {
      "needs_background": "light"
     },
     "output_type": "display_data"
    }
   ],
   "source": [
    "plt.plot(lossValuesEpoch)\n",
    "plt.xlabel(\"Epoch\", size = 16,)\n",
    "plt.ylabel(\"Loss\", size = 16)"
   ]
  },
  {
   "cell_type": "code",
   "execution_count": 13,
   "id": "766c50df",
   "metadata": {},
   "outputs": [
    {
     "data": {
      "text/plain": [
       "[<matplotlib.lines.Line2D at 0x19e14e58148>]"
      ]
     },
     "execution_count": 13,
     "metadata": {},
     "output_type": "execute_result"
    },
    {
     "data": {
      "image/png": "[encoded data removed]",
      "text/plain": [
       "<Figure size 432x288 with 1 Axes>"
      ]
     },
     "metadata": {
      "needs_background": "light"
     },
     "output_type": "display_data"
    }
   ],
   "source": [
    "plt.plot(lossValuesDevSetAllEpoch)"
   ]
  },
  {
   "cell_type": "code",
   "execution_count": null,
   "id": "053db222",
   "metadata": {},
   "outputs": [],
   "source": [
    "# Test set\n",
    "# PLANTEAMOS UN CONJUNTO DE TESTEO ROTADO PARA VER LOS RESULTADOS\n",
    "\n",
    "trainingSet = dict([('input',train_noisyImage), ('output', train_groundTruth)])\n",
    "\n",
    "inputsTestSet = torch.from_numpy(trainingSet['input'][:,:,:,:])\n",
    "groundTruthTestSet = torch.from_numpy(trainingSet['output'][:,:,:,:])\n",
    "\n",
    "inputsTestSet = torchvision.transforms.functional.rotate(inputsTestSet,15)\n",
    "groundTruthTestSet = torchvision.transforms.functional.rotate(groundTruthTestSet,15)"
   ]
  },
  {
   "cell_type": "code",
   "execution_count": 30,
   "id": "14101868",
   "metadata": {},
   "outputs": [
    {
     "name": "stdout",
     "output_type": "stream",
     "text": [
      "0.21297317780554295\n",
      "MSE antes de pasar por la red [0.35828256607055664]\n",
      "MSE dsp de pasar por la red [0.08926944434642792]\n"
     ]
    }
   ],
   "source": [
    "## Testeo con DataSet Rotado\n",
    "outArray = []\n",
    "\n",
    "#for i in range(0,inputsTestSet.shape[0]):\n",
    "for i in range(0,10):\n",
    "    inputs =  inputsTestSet[i]\n",
    "    inputs = torch.unsqueeze(inputs, dim = 0)\n",
    "    out = unet(inputs)\n",
    "    outArray.append(out)\n",
    "    \n",
    "# MSE antes y dsp\n",
    "\n",
    "mseBef = []\n",
    "mseAft = []\n",
    "\n",
    "# Antes\n",
    "img1 = torch.unsqueeze(inputsTestSet[9], dim = 0)\n",
    "img1 = (img1).detach().numpy()\n",
    "\n",
    "img2 = torch.unsqueeze(groundTruthTestSet[9], dim = 0)\n",
    "img2 = (img2).detach().numpy()\n",
    "mseBef.append(MSE(img1[0,:,:],img2[0,:,:]))\n",
    "\n",
    "# Dsp\n",
    "imgOut = (outArray[9]).detach().numpy()\n",
    "mseAft.append(MSE(imgOut[0,:,:],img2[0,:,:]))\n",
    "\n",
    "print('MSE antes de pasar por la red',mseBef)\n",
    "print('MSE dsp de pasar por la red',mseAft)"
   ]
  },
  {
   "cell_type": "code",
   "execution_count": 26,
   "id": "1f99f047",
   "metadata": {},
   "outputs": [],
   "source": [
    "# Guardar imagenes (opcional)\n",
    "\n",
    "img_inputs = sitk.GetImageFromArray(img1[0,:,:])\n",
    "sitk.WriteImage(img_inputs,'Entrada.nii')\n",
    "\n",
    "img_inputs = sitk.GetImageFromArray(imgOut[0,:,:])\n",
    "sitk.WriteImage(img_inputs,'Salida.nii')\n",
    "\n",
    "img_out = sitk.GetImageFromArray(img2[0,:,:])\n",
    "sitk.WriteImage(img_out,'groundTruthUnet.nii')"
   ]
  },
  {
   "cell_type": "code",
   "execution_count": 47,
   "id": "e354329b",
   "metadata": {},
   "outputs": [],
   "source": [
    "# TESTEO CON dataSet2\n",
    "\n",
    "# Create dictionaries with training sets:\n",
    "testDataSet2 = dict([('input',img_noisyDataSet2), ('output', img_groundTruth)])\n",
    "\n",
    "inputsTestSet2 = torch.from_numpy(testDataSet2['input'][:,:,:,:])\n",
    "groundTruthTestSet2 = torch.from_numpy(testDataSet2['output'][:,:,:,:])"
   ]
  },
  {
   "cell_type": "code",
   "execution_count": 148,
   "id": "7f3a97fc",
   "metadata": {},
   "outputs": [
    {
     "name": "stdout",
     "output_type": "stream",
     "text": [
      "MSE antes de pasar por la red [0.6936010122299194]\n",
      "MSE dsp de pasar por la red [0.3665635585784912]\n"
     ]
    }
   ],
   "source": [
    "## Testeo ....\n",
    "outArray2 = []\n",
    "\n",
    "#for i in range(0,inputsTestSet.shape[0]):\n",
    "for i in range(0,40):\n",
    "    inputs =  inputsTestSet2[i]\n",
    "    inputs = torch.unsqueeze(inputs, dim = 0)\n",
    "    out = unet(inputs)\n",
    "    outArray2.append(out)\n",
    "    \n",
    "# MSE antes y dsp\n",
    "\n",
    "mseBef2 = []\n",
    "mseAft2 = []\n",
    "\n",
    "# Antes\n",
    "img1 = torch.unsqueeze(inputsTestSet2[30], dim = 0)\n",
    "img1 = (img1).detach().numpy()\n",
    "\n",
    "img2 = torch.unsqueeze(groundTruthTestSet2[30], dim = 0)\n",
    "img2 = (img2).detach().numpy()\n",
    "mseBef2.append(MSE(img1[0,:,:],img2[0,:,:]))\n",
    "\n",
    "# Dsp\n",
    "imgOut = (outArray2[30]).detach().numpy()\n",
    "mseAft2.append(MSE(imgOut[0,:,:],img2[0,:,:]))\n",
    "\n",
    "print('MSE antes de pasar por la red',mseBef2)\n",
    "print('MSE dsp de pasar por la red',mseAft2)"
   ]
  },
  {
   "cell_type": "code",
   "execution_count": 51,
   "id": "ebb657a0",
   "metadata": {},
   "outputs": [],
   "source": [
    "img_inputs = sitk.GetImageFromArray(img1[0,:,:])\n",
    "sitk.WriteImage(img_inputs,'EntradaDataSet2.nii')\n",
    "\n",
    "img_inputs = sitk.GetImageFromArray(imgOut[0,:,:])\n",
    "sitk.WriteImage(img_inputs,'SalidaDataSet2.nii')\n",
    "\n",
    "img_out = sitk.GetImageFromArray(img2[0,:,:])\n",
    "sitk.WriteImage(img_out,'groundTruthUnetDataSet2.nii')"
   ]
  },
  {
   "cell_type": "code",
   "execution_count": 189,
   "id": "5e3f0107",
   "metadata": {},
   "outputs": [
    {
     "name": "stdout",
     "output_type": "stream",
     "text": [
      "DataSet1\n",
      "Antes GM 1.7985076904296875\n",
      "Despues GM 1.327314853668213\n",
      "Antes WM 0.058013916015625\n",
      "Despues WM 0.049223802983760834\n",
      "DataSet2\n",
      "Antes GM 2.1640639305114746\n",
      "Despues GM 1.446186900138855\n",
      "Antes WM 0.16540521383285522\n",
      "Despues WM 0.1953027844429016\n"
     ]
    }
   ],
   "source": [
    "# MSE materia gris y materia blanca #\n",
    "\n",
    "nroSliceDS1 = 9\n",
    "\n",
    "nroSliceDS2 = 30\n",
    "\n",
    "# Antes de pasar por la red\n",
    "\n",
    "# dataSet1 rotado\n",
    "greyMatterNoisyDataSet1RotateAntes = inputsTestSet[nroSliceDS1] * ((groundTruthTestSet[nroSlice]==8)*1.0)\n",
    "whiteMatterNoisyDataSet1RotateAntes = inputsTestSet[nroSliceDS1] * ((groundTruthTestSet[nroSlice]==2)*1.0)\n",
    "\n",
    "greyMatterNoisyDataSet1RotateDsp = outArray[nroSliceDS1] * ((groundTruthTestSet[nroSlice]==8)*1.0)\n",
    "whiteMatterNoisyDataSet1RotateDsp = outArray[nroSliceDS1] * ((groundTruthTestSet[nroSlice]==2)*1.0)\n",
    "\n",
    "# dataSet2\n",
    "greyMatterNoisyDataSet2Antes = inputsTestSet2[nroSliceDS2] * ((groundTruthTestSet2[nroSliceDS2]==8)*1.0)\n",
    "whiteMatterNoisyDataSet2Antes = inputsTestSet2[nroSliceDS2] * ((groundTruthTestSet2[nroSliceDS2]==2)*1.0)\n",
    "\n",
    "greyMatterNoisyDataSet2Dsp = outArray2[nroSliceDS2] * ((groundTruthTestSet2[nroSliceDS2]==8)*1.0)\n",
    "whiteMatterNoisyDataSet2Dsp = outArray2[nroSliceDS2] * ((groundTruthTestSet2[nroSliceDS2]==2)*1.0)\n",
    "\n",
    "# Antes y dsp dataSet1\n",
    "\n",
    "print('DataSet1')\n",
    "\n",
    "img1 = torch.unsqueeze(greyMatterNoisyDataSet1RotateAntes, dim = 0)\n",
    "img1 = (img1).detach().numpy()\n",
    "img2 = torch.unsqueeze(((groundTruthTestSet[nroSliceDS1]==8)*1.0), dim = 0)\n",
    "img2 = (img2).detach().numpy()\n",
    "\n",
    "img_inputs = sitk.GetImageFromArray(img1[0,:,:])\n",
    "sitk.WriteImage(img_inputs,'EntradaDataSet1GM.nii')\n",
    "\n",
    "img_inputs = sitk.GetImageFromArray(img2[0,:,:])\n",
    "sitk.WriteImage(img_inputs,'MASKDataSet1GM.nii')\n",
    "\n",
    "print('Antes GM',MSE(img1[0,:,:],img2[0,:,:]))\n",
    "\n",
    "img1 = (greyMatterNoisyDataSet1RotateDsp).detach().numpy()\n",
    "img2 = torch.unsqueeze(((groundTruthTestSet[nroSliceDS1]==8)*1.0), dim = 0)\n",
    "img2 = (img2).detach().numpy()\n",
    "\n",
    "print('Despues GM',MSE(img1[0,:,:],img2[0,:,:]))\n",
    "\n",
    "img1 = torch.unsqueeze(whiteMatterNoisyDataSet1RotateAntes, dim = 0)\n",
    "img1 = (img1).detach().numpy()\n",
    "img2 = torch.unsqueeze(((groundTruthTestSet[nroSliceDS1]==2)*1.0), dim = 0)\n",
    "img2 = (img2).detach().numpy()\n",
    "\n",
    "img_inputs = sitk.GetImageFromArray(img1[0,:,:])\n",
    "sitk.WriteImage(img_inputs,'EntradaDataSet1WM.nii')\n",
    "\n",
    "img_inputs = sitk.GetImageFromArray(img2[0,:,:])\n",
    "sitk.WriteImage(img_inputs,'MASKDataSet1WM.nii')\n",
    "\n",
    "print('Antes WM',MSE(img1[0,:,:],img2[0,:,:]))\n",
    "\n",
    "\n",
    "img1 = (whiteMatterNoisyDataSet1RotateDsp).detach().numpy()\n",
    "img2 = torch.unsqueeze(((groundTruthTestSet[nroSliceDS1]==2)*1.0), dim = 0)\n",
    "img2 = (img2).detach().numpy()\n",
    "\n",
    "print('Despues WM',MSE(img1[0,:,:],img2[0,:,:]))\n",
    "\n",
    "\n",
    "# Antes y dsp dataSet2\n",
    "\n",
    "print('DataSet2')\n",
    "\n",
    "img1 = torch.unsqueeze(greyMatterNoisyDataSet2Antes, dim = 0)\n",
    "img1 = (img1).detach().numpy()\n",
    "img2 = torch.unsqueeze(((groundTruthTestSet2[nroSliceDS2]==8)*1.0), dim = 0)\n",
    "img2 = (img2).detach().numpy()\n",
    "\n",
    "print('Antes GM',MSE(img1[0,:,:],img2[0,:,:]))\n",
    "\n",
    "img1 = (greyMatterNoisyDataSet2Dsp).detach().numpy()\n",
    "img2 = torch.unsqueeze(((groundTruthTestSet2[nroSliceDS2]==8)*1.0), dim = 0)\n",
    "img2 = (img2).detach().numpy()\n",
    "\n",
    "print('Despues GM',MSE(img1[0,:,:],img2[0,:,:]))\n",
    "\n",
    "img1 = torch.unsqueeze(whiteMatterNoisyDataSet2Antes, dim = 0)\n",
    "img1 = (img1).detach().numpy()\n",
    "img2 = torch.unsqueeze(((groundTruthTestSet2[nroSliceDS2]==2)*1.0), dim = 0)\n",
    "img2 = (img2).detach().numpy()\n",
    "\n",
    "img_inputs = sitk.GetImageFromArray(img1[0,:,:])\n",
    "sitk.WriteImage(img_inputs,'EntradaDataSet2WM.nii')\n",
    "\n",
    "img_inputs = sitk.GetImageFromArray(img2[0,:,:])\n",
    "sitk.WriteImage(img_inputs,'MASKDataSet2WM.nii')\n",
    "\n",
    "print('Antes WM',MSE(img1[0,:,:],img2[0,:,:]))\n",
    "\n",
    "img1 = (whiteMatterNoisyDataSet2Dsp).detach().numpy()\n",
    "img2 = torch.unsqueeze(((groundTruthTestSet2[nroSliceDS2]==2)*1.0), dim = 0)\n",
    "img2 = (img2).detach().numpy()\n",
    "\n",
    "img_inputs = sitk.GetImageFromArray(img1[0,:,:])\n",
    "sitk.WriteImage(img_inputs,'EntradaDataSet2WM.nii')\n",
    "\n",
    "img_inputs = sitk.GetImageFromArray(img2[0,:,:])\n",
    "sitk.WriteImage(img_inputs,'MASKDataSet2WM.nii')\n",
    "\n",
    "print('Despues WM',MSE(img1[0,:,:],img2[0,:,:]))"
   ]
  },
  {
   "cell_type": "code",
   "execution_count": null,
   "id": "b173f7f3",
   "metadata": {},
   "outputs": [],
   "source": []
  }
 ],
 "metadata": {
  "kernelspec": {
   "display_name": "Python 3 (ipykernel)",
   "language": "python",
   "name": "python3"
  },
  "language_info": {
   "codemirror_mode": {
    "name": "ipython",
    "version": 3
   },
   "file_extension": ".py",
   "mimetype": "text/x-python",
   "name": "python",
   "nbconvert_exporter": "python",
   "pygments_lexer": "ipython3",
   "version": "3.7.6"
  }
 },
 "nbformat": 4,
 "nbformat_minor": 5
}
