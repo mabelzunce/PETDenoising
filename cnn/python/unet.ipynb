{
 "cells": [
  {
   "cell_type": "code",
   "execution_count": 7,
   "id": "1aaff52f",
   "metadata": {},
   "outputs": [],
   "source": [
    "import nibabel as nb\n",
    "import SimpleITK as sitk\n",
    "import matplotlib.pyplot as plt"
   ]
  },
  {
   "cell_type": "code",
   "execution_count": 8,
   "id": "ce872647",
   "metadata": {},
   "outputs": [],
   "source": [
    "import numpy as np \n",
    "import torch \n",
    "from torch import nn\n",
    "from torch.nn import functional as F\n",
    "from torch import optim \n",
    "import torchvision\n",
    "from torchvision import datasets, transforms \n",
    "import matplotlib.pyplot as plt \n",
    "import time \n",
    "import warnings\n",
    "from torch.utils.data.dataset import Dataset, TensorDataset\n",
    "import nibabel"
   ]
  },
  {
   "cell_type": "code",
   "execution_count": 9,
   "id": "cb963f23",
   "metadata": {},
   "outputs": [
    {
     "name": "stdout",
     "output_type": "stream",
     "text": [
      "Data set shape: (1726, 344, 344)\n"
     ]
    }
   ],
   "source": [
    "noisyDataSet1_nii = sitk.ReadImage('./noisyDataSet1.nii')\n",
    "img_noisyDataSet1 = sitk.GetArrayFromImage(noisyDataSet1_nii)\n",
    "print(\"Data set shape:\",img_noisyDataSet1.shape)"
   ]
  },
  {
   "cell_type": "code",
   "execution_count": 10,
   "id": "1e3b34a4",
   "metadata": {},
   "outputs": [
    {
     "name": "stdout",
     "output_type": "stream",
     "text": [
      "Data set shape: (1726, 344, 344)\n"
     ]
    }
   ],
   "source": [
    "noisyDataSet2_nii = sitk.ReadImage('./noisyDataSet2.nii')\n",
    "img_noisyDataSet2 = sitk.GetArrayFromImage(noisyDataSet2_nii)\n",
    "print(\"Data set shape:\",img_noisyDataSet2.shape)"
   ]
  },
  {
   "cell_type": "code",
   "execution_count": 11,
   "id": "31308489",
   "metadata": {},
   "outputs": [
    {
     "name": "stdout",
     "output_type": "stream",
     "text": [
      "Data set shape: (1726, 344, 344)\n"
     ]
    }
   ],
   "source": [
    "groundTruth_nii = sitk.ReadImage('./groundTruth.nii')\n",
    "img_groundTruth = sitk.GetArrayFromImage(groundTruth_nii)\n",
    "print(\"Data set shape:\",img_groundTruth.shape)"
   ]
  },
  {
   "cell_type": "code",
   "execution_count": 11,
   "id": "b5f1e5fe",
   "metadata": {},
   "outputs": [
    {
     "data": {
      "text/plain": [
       "<matplotlib.image.AxesImage at 0x18e2c4a7448>"
      ]
     },
     "execution_count": 11,
     "metadata": {},
     "output_type": "execute_result"
    },
    {
     "data": {
      "image/png": "[encoded data removed]",
      "text/plain": [
       "<Figure size 432x288 with 1 Axes>"
      ]
     },
     "metadata": {
      "needs_background": "light"
     },
     "output_type": "display_data"
    }
   ],
   "source": [
    "plt.imshow(img_noisyDataSet2[500,:,:])"
   ]
  },
  {
   "cell_type": "code",
   "execution_count": 83,
   "id": "a22e3467",
   "metadata": {},
   "outputs": [],
   "source": [
    "class Unet(nn.Module):\n",
    "    \n",
    "    def __init__(self):\n",
    "        super(Unet,self).__init__()\n",
    "        \n",
    "        # Contract\n",
    "        self.layer1Down = nn.Sequential (\n",
    "            torch.nn.Conv2d(1, 32, kernel_size=3, stride=1, padding=0),\n",
    "            torch.nn.BatchNorm2d(32),\n",
    "            torch.nn.ReLU(),\n",
    "            torch.nn.Conv2d(32, 32, kernel_size=3, stride=1, padding=0),\n",
    "            torch.nn.BatchNorm2d(32),\n",
    "            torch.nn.ReLU(),\n",
    "        )\n",
    "        \n",
    "        self.layer2Down = nn.Sequential (\n",
    "            torch.nn.Conv2d(32, 64, kernel_size = 3, stride=1, padding=0),\n",
    "            torch.nn.BatchNorm2d(64),\n",
    "            torch.nn.ReLU(),\n",
    "            torch.nn.Conv2d(64, 64, kernel_size= 3, stride=1, padding=0),\n",
    "            torch.nn.BatchNorm2d(64),\n",
    "            torch.nn.ReLU(),\n",
    "        )\n",
    "        \n",
    "        self.layer3Down = nn.Sequential (\n",
    "            torch.nn.Conv2d(64, 128, kernel_size = 3, stride=1, padding=1),\n",
    "            torch.nn.BatchNorm2d(128),\n",
    "            torch.nn.ReLU(),\n",
    "            torch.nn.Conv2d(128, 128, kernel_size = 3, stride=1, padding=1),\n",
    "            torch.nn.BatchNorm2d(128),\n",
    "            torch.nn.ReLU(),\n",
    "        )\n",
    "        \n",
    "        self.layer4Down = nn.Sequential (\n",
    "            torch.nn.Conv2d(128, 256, kernel_size = 3, stride=1, padding=0),\n",
    "            torch.nn.BatchNorm2d(256),\n",
    "            torch.nn.ReLU(),\n",
    "            torch.nn.Conv2d(256, 256, kernel_size = 3, stride=1, padding=0),\n",
    "            torch.nn.BatchNorm2d(256),\n",
    "            torch.nn.ReLU(),\n",
    "        )\n",
    "        \n",
    "        self.layer5Down = nn.Sequential (\n",
    "            torch.nn.Conv2d(256, 512, kernel_size = 3, stride=1, padding=0),\n",
    "            torch.nn.BatchNorm2d(512),\n",
    "            torch.nn.ReLU(),\n",
    "            torch.nn.Conv2d(512, 512, kernel_size = 3, stride=1, padding=0),\n",
    "            torch.nn.BatchNorm2d(512),\n",
    "            torch.nn.ReLU(),\n",
    "        )\n",
    "        \n",
    "        self.Pooling = torch.nn.MaxPool2d(kernel_size=2, stride=2)\n",
    "        \n",
    "        #Expand\n",
    "        \n",
    "        self.layer5ConvTransposed = nn.Sequential ( \n",
    "            torch.nn.ConvTranspose2d(512, 256, kernel_size = 2, stride = 1, padding = 0)\n",
    "        )\n",
    "        \n",
    "        self.layer4Up = nn.Sequential (\n",
    "            torch.nn.Conv2d(256, 256, kernel_size = 3, stride=1, padding=0),\n",
    "            torch.nn.BatchNorm2d(256),\n",
    "            torch.nn.ReLU(),\n",
    "            torch.nn.Conv2d(256, 256, kernel_size = 3, stride=1, padding=0),\n",
    "            torch.nn.BatchNorm2d(256),\n",
    "            torch.nn.ReLU(),\n",
    "        )\n",
    "        \n",
    "        self.layer4ConvTransposed = nn.Sequential ( \n",
    "            torch.nn.ConvTranspose2d(256, 128, kernel_size = 2, stride = 1, padding = 0)\n",
    "        )\n",
    "        \n",
    "        self.layer3Up = nn.Sequential (\n",
    "            torch.nn.Conv2d(128, 128, kernel_size = 3, stride=1, padding=0),\n",
    "            torch.nn.BatchNorm2d(128),\n",
    "            torch.nn.ReLU(),\n",
    "            torch.nn.Conv2d(128, 128, kernel_size = 3, stride=1, padding=0),\n",
    "            torch.nn.BatchNorm2d(128),\n",
    "            torch.nn.ReLU(),\n",
    "        )\n",
    "        \n",
    "        self.layer3ConvTransposed = nn.Sequential ( \n",
    "            torch.nn.ConvTranspose2d(128, 64, kernel_size = 2, stride = 1, padding = 0)\n",
    "        )\n",
    "        \n",
    "        self.layer2Up = nn.Sequential (\n",
    "            torch.nn.Conv2d(64, 64, kernel_size = 3, stride=1, padding=0),\n",
    "            torch.nn.BatchNorm2d(64),\n",
    "            torch.nn.ReLU(),\n",
    "            torch.nn.Conv2d(64, 64, kernel_size = 3, stride=1, padding=0),\n",
    "            torch.nn.BatchNorm2d(64),\n",
    "            torch.nn.ReLU(),\n",
    "        )\n",
    "        \n",
    "        self.layer2ConvTransposed = nn.Sequential ( \n",
    "            torch.nn.ConvTranspose2d(64, 32, kernel_size = 2, stride = 1, padding = 0)\n",
    "        )\n",
    "        \n",
    "        self.layer1Up = nn.Sequential (\n",
    "            torch.nn.Conv2d(32, 32, kernel_size = 3, stride=1, padding=0),\n",
    "            torch.nn.BatchNorm2d(32),\n",
    "            torch.nn.ReLU(),\n",
    "            torch.nn.Conv2d(32, 32, kernel_size = 3, stride=1, padding=0),\n",
    "            torch.nn.BatchNorm2d(32),\n",
    "            torch.nn.ReLU(),\n",
    "        )\n",
    "        \n",
    "    \n",
    "    def forward(self, x):\n",
    "\n",
    "        # Down\n",
    "        conv1 = self.layer1Down(x)\n",
    "        maxPool1 = self.Pooling(conv1)\n",
    "        \n",
    "        \n",
    "        conv2 = self.layer2Down(maxPool1)\n",
    "        maxPool2 = self.Pooling(conv2)\n",
    "        \n",
    "        conv3 = self.layer3Down(maxPool2)\n",
    "        maxPool3 = self.Pooling(conv3)\n",
    "        \n",
    "        conv4 = self.layer4Down(maxPool3)\n",
    "        maxPool4 = self.Pooling(conv4)\n",
    "        \n",
    "        conv5 = self.layer5Down(maxPool4)\n",
    "        \n",
    "        # Up\n",
    "        layerConvTransposed = self.layer5ConvTransposed(conv5)\n",
    "        \n",
    "        print(conv4.size())\n",
    "        print(layerConvTransposed.size())\n",
    "        \n",
    "        y = conv4[:, :, \n",
    "                  ((conv4.size()[2] - layerConvTransposed.size()[2]) // 2):conv4.size()[2]- (((conv4.size()[2] - layerConvTransposed.size()[2])-((conv4.size()[2] - layerConvTransposed.size()[2]) // 2))), \n",
    "                  ((conv4.size()[2] - layerConvTransposed.size()[2]) // 2):conv4.size()[2]-(((conv4.size()[2] - layerConvTransposed.size()[2])-((conv4.size()[2] - layerConvTransposed.size()[2]) // 2)))]\n",
    "        layer4UpData = torch.cat([layerConvTransposed,y])\n",
    "        convTrans4 = self.layer4Up(layer4UpData)\n",
    "    \n",
    "        print(layer4UpData.size())\n",
    "        layerConvTransposed = self.layer4ConvTransposed(convTrans4)\n",
    "        y = conv3[:, :, \n",
    "                  ((conv3.size()[2] - layerConvTransposed.size()[2]) // 2):conv3.size()[2]- (((conv3.size()[2] - layerConvTransposed.size()[2])-((conv3.size()[2] - layerConvTransposed.size()[2]) // 2))), \n",
    "                  ((conv3.size()[2] - layerConvTransposed.size()[2]) // 2):conv3.size()[2]-(((conv3.size()[2] - layerConvTransposed.size()[2])-((conv3.size()[2] - layerConvTransposed.size()[2]) // 2)))]\n",
    "        layer3UpData = torch.cat([layerConvTransposed,y])\n",
    "        convTrans3 = self.layer3Up(layer3UpData)\n",
    "        \n",
    "        layerConvTransposed = self.layer3ConvTransposed(convTrans3)\n",
    "        y = conv2[:, :, \n",
    "                  ((conv2.size()[2] - layerConvTransposed.size()[2]) // 2):conv2.size()[2]- (((conv2.size()[2] - layerConvTransposed.size()[2])-((conv2.size()[2] - layerConvTransposed.size()[2]) // 2))), \n",
    "                  ((conv2.size()[2] - layerConvTransposed.size()[2]) // 2):conv2.size()[2]-(((conv2.size()[2] - layerConvTransposed.size()[2])-((conv2.size()[2] - layerConvTransposed.size()[2]) // 2)))]\n",
    "        layer2UpData = torch.cat([layerConvTransposed,y])\n",
    "        convTrans2 = self.layer2Up(layer2UpData)\n",
    "        \n",
    "        layerConvTransposed = self.layer2ConvTransposed(convTrans2)\n",
    "        y = conv1[:, :, \n",
    "                  ((conv1.size()[2] - layerConvTransposed.size()[2]) // 2):conv1.size()[2]- (((conv1.size()[2] - layerConvTransposed.size()[2])-((conv1.size()[2] - layerConvTransposed.size()[2]) // 2))), \n",
    "                  ((conv1.size()[2] - layerConvTransposed.size()[2]) // 2):conv1.size()[2]-(((conv1.size()[2] - layerConvTransposed.size()[2])-((conv1.size()[2] - layerConvTransposed.size()[2]) // 2)))]\n",
    "        layer1UpData = torch.cat([layerConvTransposed,y])\n",
    "        convTrans1 = self.layer1Up(layer1UpData)\n",
    "\n",
    "\n",
    "        outNet = torch.nn.Conv2d(32,2, kernel_size = 1)(convTrans1)\n",
    "        return outNet\n",
    "\n",
    "        "
   ]
  },
  {
   "cell_type": "code",
   "execution_count": 84,
   "id": "b12c23cd",
   "metadata": {},
   "outputs": [
    {
     "name": "stdout",
     "output_type": "stream",
     "text": [
      "torch.Size([1, 256, 66, 66])\n",
      "torch.Size([1, 256, 30, 30])\n",
      "torch.Size([2, 256, 30, 30])\n"
     ]
    }
   ],
   "source": [
    "if __name__ == '__main__':\n",
    "    image = torch.rand((1, 1, 572, 572))\n",
    "    model = Unet()\n",
    "    model(image)"
   ]
  },
  {
   "cell_type": "code",
   "execution_count": null,
   "id": "ab9b8227",
   "metadata": {},
   "outputs": [],
   "source": []
  }
 ],
 "metadata": {
  "kernelspec": {
   "display_name": "Python 3 (ipykernel)",
   "language": "python",
   "name": "python3"
  },
  "language_info": {
   "codemirror_mode": {
    "name": "ipython",
    "version": 3
   },
   "file_extension": ".py",
   "mimetype": "text/x-python",
   "name": "python",
   "nbconvert_exporter": "python",
   "pygments_lexer": "ipython3",
   "version": "3.7.9"
  }
 },
 "nbformat": 4,
 "nbformat_minor": 5
}
