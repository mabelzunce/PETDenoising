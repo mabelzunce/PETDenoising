{
 "cells": [
  {
   "cell_type": "code",
   "execution_count": 32,
   "id": "41858dd1",
   "metadata": {},
   "outputs": [],
   "source": [
    "import nibabel as nb\n",
    "import SimpleITK as sitk\n",
    "import matplotlib.pyplot as plt\n",
    "import numpy as np \n",
    "\n",
    "import torch \n",
    "import torchvision\n",
    "import torchvision.transforms as transforms\n",
    "import torch.optim as optim\n",
    "\n",
    "\n",
    "\n",
    "from torch import nn\n",
    "from torch.utils.data import DataLoader\n",
    "from torch.utils.tensorboard import SummaryWriter\n",
    "from torchsummary import summary\n",
    "\n",
    "from datetime import datetime\n",
    "\n",
    "from sklearn.model_selection import train_test_split\n"
   ]
  },
  {
   "cell_type": "code",
   "execution_count": 17,
   "id": "3a18acb2",
   "metadata": {},
   "outputs": [
    {
     "name": "stdout",
     "output_type": "stream",
     "text": [
      "noisyDataSet1 shape: (1726, 344, 344)\n",
      "noisyDataSet2 shape: (1726, 344, 344)\n",
      "groundTruth shape: (1726, 344, 344)\n"
     ]
    }
   ],
   "source": [
    "# Importo base de datos\n",
    "\n",
    "noisyDataSet1_nii = sitk.ReadImage('./noisyDataSet1.nii')\n",
    "img_noisyDataSet1 = sitk.GetArrayFromImage(noisyDataSet1_nii)\n",
    "\n",
    "noisyDataSet2_nii = sitk.ReadImage('./noisyDataSet2.nii')\n",
    "img_noisyDataSet2 = sitk.GetArrayFromImage(noisyDataSet2_nii)\n",
    "\n",
    "groundTruth_nii = sitk.ReadImage('./groundTruth.nii')\n",
    "img_groundTruth = sitk.GetArrayFromImage(groundTruth_nii)\n",
    "\n",
    "print(\"noisyDataSet1 shape:\",img_noisyDataSet1.shape)\n",
    "print(\"noisyDataSet2 shape:\",img_noisyDataSet2.shape)\n",
    "print(\"groundTruth shape:\",img_groundTruth.shape)"
   ]
  },
  {
   "cell_type": "code",
   "execution_count": 18,
   "id": "e578d541",
   "metadata": {},
   "outputs": [
    {
     "name": "stdout",
     "output_type": "stream",
     "text": [
      "(1726, 1, 256, 256)\n",
      "(1726, 1, 256, 256)\n",
      "(1726, 1, 256, 256)\n"
     ]
    }
   ],
   "source": [
    "# Reshape for training\n",
    "\n",
    "img_noisyDataSet1 =img_noisyDataSet1[:,44:300,44:300]\n",
    "img_noisyDataSet2 =img_noisyDataSet2[:,44:300,44:300]\n",
    "img_groundTruth =img_groundTruth[:,44:300,44:300]\n",
    "\n",
    "img_noisyDataSet1 = np.expand_dims(img_noisyDataSet1, axis=-3)\n",
    "img_noisyDataSet2 = np.expand_dims(img_noisyDataSet2, axis=-3)\n",
    "img_groundTruth = np.expand_dims(img_groundTruth, axis=-3)\n",
    "\n",
    "print(img_noisyDataSet1.shape)\n",
    "print(img_noisyDataSet2.shape)\n",
    "print(img_groundTruth.shape)"
   ]
  },
  {
   "cell_type": "code",
   "execution_count": 19,
   "id": "14ca6e09",
   "metadata": {},
   "outputs": [],
   "source": [
    "# Acoto conjuntos (OPCIONAL)\n",
    "\n",
    "img_noisyDataSet1 =img_noisyDataSet1[30:50,:,:,:]\n",
    "img_noisyDataSet2 =img_noisyDataSet2[30:50,:,:,:]\n",
    "img_groundTruth =img_groundTruth[30:50,:,:,:]"
   ]
  },
  {
   "cell_type": "code",
   "execution_count": 5,
   "id": "92ad46c2",
   "metadata": {},
   "outputs": [
    {
     "data": {
      "text/plain": [
       "<matplotlib.image.AxesImage at 0x21354ee28c8>"
      ]
     },
     "execution_count": 5,
     "metadata": {},
     "output_type": "execute_result"
    },
    {
     "data": {
      "image/png": "[encoded data removed]",
      "text/plain": [
       "<Figure size 432x288 with 1 Axes>"
      ]
     },
     "metadata": {
      "needs_background": "light"
     },
     "output_type": "display_data"
    }
   ],
   "source": [
    "plt.imshow(img_noisyDataSet1[19,0,:,:])"
   ]
  },
  {
   "cell_type": "code",
   "execution_count": 6,
   "id": "2b537eca",
   "metadata": {},
   "outputs": [],
   "source": [
    "# Error cuadratico medio entre dos imagenes\n",
    "\n",
    "def MSE(img1, img2):\n",
    "        cuadradoDeDif = ((img1 -img2) ** 2)\n",
    "        suma = np.sum(cuadradoDeDif)\n",
    "        cantPix = img1.shape[0] * img1.shape[1] \n",
    "        error = suma / cantPix\n",
    "        return error"
   ]
  },
  {
   "cell_type": "code",
   "execution_count": 7,
   "id": "f4032c11",
   "metadata": {},
   "outputs": [
    {
     "name": "stdout",
     "output_type": "stream",
     "text": [
      "0.35028509543889563\n"
     ]
    }
   ],
   "source": [
    "MSE_dataSet1_slice = MSE(img_noisyDataSet1[5,0,:,:],img_groundTruth[5,0,:,:])\n",
    "print(MSE_dataSet1_slice)"
   ]
  },
  {
   "cell_type": "code",
   "execution_count": 8,
   "id": "134af4c1",
   "metadata": {},
   "outputs": [],
   "source": [
    "#Unet CLASICA (generando un nuevo formato)\n",
    "\n",
    "class DownConv(nn.Module):\n",
    "    \n",
    "    def __init__(self, in_channels , out_channels, kernel_size = 3 , stride = 1 , padding = 1):\n",
    "        super(DownConv, self).__init__()\n",
    "        self.DownLayer = nn.Sequential(\n",
    "\n",
    "            torch.nn.Conv2d(in_channels, out_channels, kernel_size=kernel_size, stride=stride, padding=padding),\n",
    "            torch.nn.BatchNorm2d(out_channels2),\n",
    "            torch.nn.ReLU(inplace = True),\n",
    "            torch.nn.Conv2d(out_channels, out_channels, kernel_size=3, stride=1, padding=1),\n",
    "            torch.nn.BatchNorm2d(out_channels),\n",
    "            torch.nn.ReLU(inplace = True),\n",
    "        )\n",
    "        \n",
    "        def forward(self, x ):\n",
    "            x = self.DownLayer(x)\n",
    "            return x\n",
    "        \n",
    "class MaxPool(nn.Module):\n",
    "    def __init__(self, kernel_size = 2, stride = 2):\n",
    "        super(MaxPool, self).__init__()\n",
    "        self.Pool = torch.nn.MaxPool2d()\n",
    "        \n",
    "    def forward (self,x):\n",
    "        x = self.Pool(x)\n",
    "        return x\n",
    "    \n",
    "class Middle(nn.Module): \n",
    "    def __init__(self, kernel_size = 2, stride = 2):\n",
    "        super(Middle, self).__init__()\n",
    "        self.Pool = torch.nn.MaxPool2d()\n",
    "        \n",
    "class UpConv(nn.Module):\n",
    "    \n",
    "    def __init__(self, in_channels , out_channels, kernel_size = 3 , stride = 1 , padding = 1):\n",
    "        super(UpConv, self).__init__()\n",
    "        \n",
    "        self.ConvTransp = torch.nn.ConvTranspose2d(in_channels, out_channels, kernel_size = 2, stride = 2, padding = 0)\n",
    "        self.UpConv = self.DownLayer(in_channels, out_channels)\n",
    "        \n",
    "    def forward(self, xAnt , xDown):\n",
    "            \n",
    "        layerConvTransposed = self.ConvTransposed(xAnt)\n",
    "        concat = torch.cat((layerConvTransposed,xDown), dim=1)\n",
    "        x = self.UpConv(concat)\n",
    "            \n",
    "        return x\n",
    "    \n",
    "\n",
    "class Unet(nn.Module):\n",
    "    \n",
    "    def __init__(self):\n",
    "        super(Unet,self,x).__init__()\n",
    "        \n",
    "        # Contract\n",
    "        \n",
    "        self.Layer1Down = self.DownConv(1,32)\n",
    "        self.Layer2Down = self.DownConv(32,64)\n",
    "        self.Layer3Down = self.DownConv(64,128)\n",
    "        self.Layer4Down = self.DownConv(128,256)\n",
    "        self.Layer5Down = self.DownConv(256,512)\n",
    "        self.Layer6Down = self.DownConv(512,1024)\n",
    "        \n",
    "        self.Layer1Up = self.UpConv(1024,512)\n",
    "        self.Layer2Up = self.UpConv(512,256)\n",
    "        self.Layer3Up = self.UpConv(256,128)\n",
    "        self.Layer4Up = self.UpConv(128,64)\n",
    "        self.Layer5Up = self.UpConv(64,32)\n",
    "        \n",
    "        \n",
    "    \n",
    "    def forward(self, x):\n",
    "\n",
    "        # Down\n",
    "        conv1 = self.layer1Down(x)\n",
    "        maxPool1 = self.MaxPool(conv1)\n",
    "        \n",
    "        conv2 = self.layer2Down(maxPool1)\n",
    "        maxPool2 = self.Pooling(conv2)\n",
    "        \n",
    "        conv3 = self.layer3Down(maxPool2)\n",
    "        maxPool3 = self.Pooling(conv3)\n",
    "        \n",
    "        conv4 = self.layer4Down(maxPool3)\n",
    "        maxPool4 = self.Pooling(conv4)\n",
    "        \n",
    "        conv5 = self.layer5Down(maxPool4)\n",
    "        maxPool5 = self.Pooling(conv5)\n",
    "        \n",
    "        conv6 = self.layer6Down(maxPool5)\n",
    "        \n",
    "\n",
    "        # Up\n",
    "        \n",
    "        layerConvTransposed = self.layer7ConvTransposed(conv7)\n",
    "        layer6UpData = torch.cat((layerConvTransposed,conv6), dim=1)\n",
    "        convTrans6 = self.layer6Up(layer6UpData)\n",
    "        \n",
    "        layerConvTransposed = self.layer6ConvTransposed(convTrans6)\n",
    "        layer5UpData = torch.cat((layerConvTransposed,conv5), dim=1)\n",
    "        convTrans5 = self.layer5Up(layer5UpData)\n",
    "        \n",
    "        layerConvTransposed = self.layer5ConvTransposed(convTrans5)\n",
    "        layer4UpData = torch.cat((layerConvTransposed,conv4), dim=1)\n",
    "        convTrans4 = self.layer4Up(layer4UpData)        \n",
    " \n",
    "        layerConvTransposed = self.layer4ConvTransposed(convTrans4)\n",
    "        layer3UpData = torch.cat((layerConvTransposed,conv3), dim = 1)\n",
    "        convTrans3 = self.layer3Up(layer3UpData)\n",
    "        \n",
    "        layerConvTransposed = self.layer3ConvTransposed(convTrans3)\n",
    "        layer2UpData = torch.cat((layerConvTransposed,conv2), dim = 1)\n",
    "        convTrans2 = self.layer2Up(layer2UpData)\n",
    "        \n",
    "        layerConvTransposed = self.layer2ConvTransposed(convTrans2)\n",
    "        layer1UpData = torch.cat((layerConvTransposed,conv1), dim = 1)\n",
    "        convTrans1 = self.layer1Up(layer1UpData)\n",
    "        \n",
    "        outNet = torch.nn.Conv2d(32,1, kernel_size = 1)(convTrans1)\n",
    "        return outNet\n",
    "\n",
    "unet = Unet()"
   ]
  },
  {
   "cell_type": "code",
   "execution_count": 20,
   "id": "d841a2a7",
   "metadata": {},
   "outputs": [],
   "source": [
    "# Entrenamiento #\n",
    "\n",
    "# Loss and optimizer\n",
    "\n",
    "criterion = nn.MSELoss()\n",
    "optimizer = optim.Adam(unet.parameters(), lr=0.0001)\n",
    "\n",
    "# Conjunto de entrenamiento, testeo y validacion\n",
    "\n",
    "train_noisyImage,test_noisyImage,train_groundTruth,test_groundTruth = train_test_split(img_noisyDataSet1, img_groundTruth, test_size=0.2)\n",
    "\n",
    "valid_noisyImage = train_noisyImage[-5:,:,:,:]\n",
    "valid_groundTruth = train_groundTruth[-5:,:,:,:]\n",
    "\n",
    "train_noisyImage = train_noisyImage [:-5,:,:,:]\n",
    "train_groundTruth = train_groundTruth[:-5:,:,:,:]\n",
    "    "
   ]
  },
  {
   "cell_type": "code",
   "execution_count": 25,
   "id": "5a657e75",
   "metadata": {
    "collapsed": true
   },
   "outputs": [
    {
     "name": "stdout",
     "output_type": "stream",
     "text": [
      "torch.Size([1, 1, 256, 256])\n",
      "==========================================================================================\n",
      "Layer (type:depth-idx)                   Output Shape              Param #\n",
      "==========================================================================================\n",
      "├─Sequential: 1-1                        [-1, 32, 256, 256]        --\n",
      "|    └─Conv2d: 2-1                       [-1, 32, 256, 256]        320\n",
      "|    └─BatchNorm2d: 2-2                  [-1, 32, 256, 256]        64\n",
      "|    └─ReLU: 2-3                         [-1, 32, 256, 256]        --\n",
      "|    └─Conv2d: 2-4                       [-1, 32, 256, 256]        9,248\n",
      "|    └─BatchNorm2d: 2-5                  [-1, 32, 256, 256]        64\n",
      "|    └─ReLU: 2-6                         [-1, 32, 256, 256]        --\n",
      "├─MaxPool2d: 1-2                         [-1, 32, 128, 128]        --\n",
      "├─Sequential: 1-3                        [-1, 64, 128, 128]        --\n",
      "|    └─Conv2d: 2-7                       [-1, 64, 128, 128]        18,496\n",
      "|    └─BatchNorm2d: 2-8                  [-1, 64, 128, 128]        128\n",
      "|    └─ReLU: 2-9                         [-1, 64, 128, 128]        --\n",
      "|    └─Conv2d: 2-10                      [-1, 64, 128, 128]        36,928\n",
      "|    └─BatchNorm2d: 2-11                 [-1, 64, 128, 128]        128\n",
      "|    └─ReLU: 2-12                        [-1, 64, 128, 128]        --\n",
      "├─MaxPool2d: 1-4                         [-1, 64, 64, 64]          --\n",
      "├─Sequential: 1-5                        [-1, 128, 64, 64]         --\n",
      "|    └─Conv2d: 2-13                      [-1, 128, 64, 64]         73,856\n",
      "|    └─BatchNorm2d: 2-14                 [-1, 128, 64, 64]         256\n",
      "|    └─ReLU: 2-15                        [-1, 128, 64, 64]         --\n",
      "|    └─Conv2d: 2-16                      [-1, 128, 64, 64]         147,584\n",
      "|    └─BatchNorm2d: 2-17                 [-1, 128, 64, 64]         256\n",
      "|    └─ReLU: 2-18                        [-1, 128, 64, 64]         --\n",
      "├─MaxPool2d: 1-6                         [-1, 128, 32, 32]         --\n",
      "├─Sequential: 1-7                        [-1, 256, 32, 32]         --\n",
      "|    └─Conv2d: 2-19                      [-1, 256, 32, 32]         295,168\n",
      "|    └─BatchNorm2d: 2-20                 [-1, 256, 32, 32]         512\n",
      "|    └─ReLU: 2-21                        [-1, 256, 32, 32]         --\n",
      "|    └─Conv2d: 2-22                      [-1, 256, 32, 32]         590,080\n",
      "|    └─BatchNorm2d: 2-23                 [-1, 256, 32, 32]         512\n",
      "|    └─ReLU: 2-24                        [-1, 256, 32, 32]         --\n",
      "├─MaxPool2d: 1-8                         [-1, 256, 16, 16]         --\n",
      "├─Sequential: 1-9                        [-1, 512, 16, 16]         --\n",
      "|    └─Conv2d: 2-25                      [-1, 512, 16, 16]         1,180,160\n",
      "|    └─BatchNorm2d: 2-26                 [-1, 512, 16, 16]         1,024\n",
      "|    └─ReLU: 2-27                        [-1, 512, 16, 16]         --\n",
      "|    └─Conv2d: 2-28                      [-1, 512, 16, 16]         2,359,808\n",
      "|    └─BatchNorm2d: 2-29                 [-1, 512, 16, 16]         1,024\n",
      "|    └─ReLU: 2-30                        [-1, 512, 16, 16]         --\n",
      "├─MaxPool2d: 1-10                        [-1, 512, 8, 8]           --\n",
      "├─Sequential: 1-11                       [-1, 1024, 8, 8]          --\n",
      "|    └─Conv2d: 2-31                      [-1, 1024, 8, 8]          4,719,616\n",
      "|    └─BatchNorm2d: 2-32                 [-1, 1024, 8, 8]          2,048\n",
      "|    └─ReLU: 2-33                        [-1, 1024, 8, 8]          --\n",
      "|    └─Conv2d: 2-34                      [-1, 1024, 8, 8]          9,438,208\n",
      "|    └─BatchNorm2d: 2-35                 [-1, 1024, 8, 8]          2,048\n",
      "|    └─ReLU: 2-36                        [-1, 1024, 8, 8]          --\n",
      "├─MaxPool2d: 1-12                        [-1, 1024, 4, 4]          --\n",
      "├─Sequential: 1-13                       [-1, 2048, 4, 4]          --\n",
      "|    └─Conv2d: 2-37                      [-1, 2048, 4, 4]          18,876,416\n",
      "|    └─BatchNorm2d: 2-38                 [-1, 2048, 4, 4]          4,096\n",
      "|    └─ReLU: 2-39                        [-1, 2048, 4, 4]          --\n",
      "|    └─Conv2d: 2-40                      [-1, 2048, 4, 4]          37,750,784\n",
      "|    └─BatchNorm2d: 2-41                 [-1, 2048, 4, 4]          4,096\n",
      "|    └─ReLU: 2-42                        [-1, 2048, 4, 4]          --\n",
      "├─Sequential: 1-14                       [-1, 1024, 8, 8]          --\n",
      "|    └─ConvTranspose2d: 2-43             [-1, 1024, 8, 8]          8,389,632\n",
      "├─Sequential: 1-15                       [-1, 1024, 8, 8]          --\n",
      "|    └─Conv2d: 2-44                      [-1, 1024, 8, 8]          18,875,392\n",
      "|    └─BatchNorm2d: 2-45                 [-1, 1024, 8, 8]          2,048\n",
      "|    └─ReLU: 2-46                        [-1, 1024, 8, 8]          --\n",
      "|    └─Conv2d: 2-47                      [-1, 1024, 8, 8]          9,438,208\n",
      "|    └─BatchNorm2d: 2-48                 [-1, 1024, 8, 8]          2,048\n",
      "|    └─ReLU: 2-49                        [-1, 1024, 8, 8]          --\n",
      "├─Sequential: 1-16                       [-1, 512, 16, 16]         --\n",
      "|    └─ConvTranspose2d: 2-50             [-1, 512, 16, 16]         2,097,664\n",
      "├─Sequential: 1-17                       [-1, 512, 16, 16]         --\n",
      "|    └─Conv2d: 2-51                      [-1, 512, 16, 16]         4,719,104\n",
      "|    └─BatchNorm2d: 2-52                 [-1, 512, 16, 16]         1,024\n",
      "|    └─ReLU: 2-53                        [-1, 512, 16, 16]         --\n",
      "|    └─Conv2d: 2-54                      [-1, 512, 16, 16]         2,359,808\n",
      "|    └─BatchNorm2d: 2-55                 [-1, 512, 16, 16]         1,024\n",
      "|    └─ReLU: 2-56                        [-1, 512, 16, 16]         --\n",
      "├─Sequential: 1-18                       [-1, 256, 32, 32]         --\n",
      "|    └─ConvTranspose2d: 2-57             [-1, 256, 32, 32]         524,544\n",
      "├─Sequential: 1-19                       [-1, 256, 32, 32]         --\n",
      "|    └─Conv2d: 2-58                      [-1, 256, 32, 32]         1,179,904\n",
      "|    └─BatchNorm2d: 2-59                 [-1, 256, 32, 32]         512\n",
      "|    └─ReLU: 2-60                        [-1, 256, 32, 32]         --\n",
      "|    └─Conv2d: 2-61                      [-1, 256, 32, 32]         590,080\n",
      "|    └─BatchNorm2d: 2-62                 [-1, 256, 32, 32]         512\n",
      "|    └─ReLU: 2-63                        [-1, 256, 32, 32]         --\n",
      "├─Sequential: 1-20                       [-1, 128, 64, 64]         --\n",
      "|    └─ConvTranspose2d: 2-64             [-1, 128, 64, 64]         131,200\n",
      "├─Sequential: 1-21                       [-1, 128, 64, 64]         --\n",
      "|    └─Conv2d: 2-65                      [-1, 128, 64, 64]         295,040\n",
      "|    └─BatchNorm2d: 2-66                 [-1, 128, 64, 64]         256\n",
      "|    └─ReLU: 2-67                        [-1, 128, 64, 64]         --\n",
      "|    └─Conv2d: 2-68                      [-1, 128, 64, 64]         147,584\n",
      "|    └─BatchNorm2d: 2-69                 [-1, 128, 64, 64]         256\n",
      "|    └─ReLU: 2-70                        [-1, 128, 64, 64]         --\n",
      "├─Sequential: 1-22                       [-1, 64, 128, 128]        --\n",
      "|    └─ConvTranspose2d: 2-71             [-1, 64, 128, 128]        32,832\n",
      "├─Sequential: 1-23                       [-1, 64, 128, 128]        --\n",
      "|    └─Conv2d: 2-72                      [-1, 64, 128, 128]        73,792\n",
      "|    └─BatchNorm2d: 2-73                 [-1, 64, 128, 128]        128\n",
      "|    └─ReLU: 2-74                        [-1, 64, 128, 128]        --\n",
      "|    └─Conv2d: 2-75                      [-1, 64, 128, 128]        36,928\n",
      "|    └─BatchNorm2d: 2-76                 [-1, 64, 128, 128]        128\n",
      "|    └─ReLU: 2-77                        [-1, 64, 128, 128]        --\n",
      "├─Sequential: 1-24                       [-1, 32, 256, 256]        --\n",
      "|    └─ConvTranspose2d: 2-78             [-1, 32, 256, 256]        8,224\n",
      "├─Sequential: 1-25                       [-1, 32, 256, 256]        --\n",
      "|    └─Conv2d: 2-79                      [-1, 32, 256, 256]        18,464\n",
      "|    └─BatchNorm2d: 2-80                 [-1, 32, 256, 256]        64\n",
      "|    └─ReLU: 2-81                        [-1, 32, 256, 256]        --\n",
      "|    └─Conv2d: 2-82                      [-1, 32, 256, 256]        9,248\n",
      "|    └─BatchNorm2d: 2-83                 [-1, 32, 256, 256]        64\n",
      "|    └─ReLU: 2-84                        [-1, 32, 256, 256]        --\n",
      "==========================================================================================\n",
      "Total params: 124,448,640\n",
      "Trainable params: 124,448,640\n",
      "Non-trainable params: 0\n",
      "Total mult-adds (G): 20.28\n",
      "==========================================================================================\n",
      "Input size (MB): 0.25\n",
      "Forward/backward pass size (MB): 284.50\n",
      "Params size (MB): 474.73\n",
      "Estimated Total Size (MB): 759.48\n",
      "==========================================================================================\n"
     ]
    },
    {
     "data": {
      "text/plain": [
       "==========================================================================================\n",
       "Layer (type:depth-idx)                   Output Shape              Param #\n",
       "==========================================================================================\n",
       "├─Sequential: 1-1                        [-1, 32, 256, 256]        --\n",
       "|    └─Conv2d: 2-1                       [-1, 32, 256, 256]        320\n",
       "|    └─BatchNorm2d: 2-2                  [-1, 32, 256, 256]        64\n",
       "|    └─ReLU: 2-3                         [-1, 32, 256, 256]        --\n",
       "|    └─Conv2d: 2-4                       [-1, 32, 256, 256]        9,248\n",
       "|    └─BatchNorm2d: 2-5                  [-1, 32, 256, 256]        64\n",
       "|    └─ReLU: 2-6                         [-1, 32, 256, 256]        --\n",
       "├─MaxPool2d: 1-2                         [-1, 32, 128, 128]        --\n",
       "├─Sequential: 1-3                        [-1, 64, 128, 128]        --\n",
       "|    └─Conv2d: 2-7                       [-1, 64, 128, 128]        18,496\n",
       "|    └─BatchNorm2d: 2-8                  [-1, 64, 128, 128]        128\n",
       "|    └─ReLU: 2-9                         [-1, 64, 128, 128]        --\n",
       "|    └─Conv2d: 2-10                      [-1, 64, 128, 128]        36,928\n",
       "|    └─BatchNorm2d: 2-11                 [-1, 64, 128, 128]        128\n",
       "|    └─ReLU: 2-12                        [-1, 64, 128, 128]        --\n",
       "├─MaxPool2d: 1-4                         [-1, 64, 64, 64]          --\n",
       "├─Sequential: 1-5                        [-1, 128, 64, 64]         --\n",
       "|    └─Conv2d: 2-13                      [-1, 128, 64, 64]         73,856\n",
       "|    └─BatchNorm2d: 2-14                 [-1, 128, 64, 64]         256\n",
       "|    └─ReLU: 2-15                        [-1, 128, 64, 64]         --\n",
       "|    └─Conv2d: 2-16                      [-1, 128, 64, 64]         147,584\n",
       "|    └─BatchNorm2d: 2-17                 [-1, 128, 64, 64]         256\n",
       "|    └─ReLU: 2-18                        [-1, 128, 64, 64]         --\n",
       "├─MaxPool2d: 1-6                         [-1, 128, 32, 32]         --\n",
       "├─Sequential: 1-7                        [-1, 256, 32, 32]         --\n",
       "|    └─Conv2d: 2-19                      [-1, 256, 32, 32]         295,168\n",
       "|    └─BatchNorm2d: 2-20                 [-1, 256, 32, 32]         512\n",
       "|    └─ReLU: 2-21                        [-1, 256, 32, 32]         --\n",
       "|    └─Conv2d: 2-22                      [-1, 256, 32, 32]         590,080\n",
       "|    └─BatchNorm2d: 2-23                 [-1, 256, 32, 32]         512\n",
       "|    └─ReLU: 2-24                        [-1, 256, 32, 32]         --\n",
       "├─MaxPool2d: 1-8                         [-1, 256, 16, 16]         --\n",
       "├─Sequential: 1-9                        [-1, 512, 16, 16]         --\n",
       "|    └─Conv2d: 2-25                      [-1, 512, 16, 16]         1,180,160\n",
       "|    └─BatchNorm2d: 2-26                 [-1, 512, 16, 16]         1,024\n",
       "|    └─ReLU: 2-27                        [-1, 512, 16, 16]         --\n",
       "|    └─Conv2d: 2-28                      [-1, 512, 16, 16]         2,359,808\n",
       "|    └─BatchNorm2d: 2-29                 [-1, 512, 16, 16]         1,024\n",
       "|    └─ReLU: 2-30                        [-1, 512, 16, 16]         --\n",
       "├─MaxPool2d: 1-10                        [-1, 512, 8, 8]           --\n",
       "├─Sequential: 1-11                       [-1, 1024, 8, 8]          --\n",
       "|    └─Conv2d: 2-31                      [-1, 1024, 8, 8]          4,719,616\n",
       "|    └─BatchNorm2d: 2-32                 [-1, 1024, 8, 8]          2,048\n",
       "|    └─ReLU: 2-33                        [-1, 1024, 8, 8]          --\n",
       "|    └─Conv2d: 2-34                      [-1, 1024, 8, 8]          9,438,208\n",
       "|    └─BatchNorm2d: 2-35                 [-1, 1024, 8, 8]          2,048\n",
       "|    └─ReLU: 2-36                        [-1, 1024, 8, 8]          --\n",
       "├─MaxPool2d: 1-12                        [-1, 1024, 4, 4]          --\n",
       "├─Sequential: 1-13                       [-1, 2048, 4, 4]          --\n",
       "|    └─Conv2d: 2-37                      [-1, 2048, 4, 4]          18,876,416\n",
       "|    └─BatchNorm2d: 2-38                 [-1, 2048, 4, 4]          4,096\n",
       "|    └─ReLU: 2-39                        [-1, 2048, 4, 4]          --\n",
       "|    └─Conv2d: 2-40                      [-1, 2048, 4, 4]          37,750,784\n",
       "|    └─BatchNorm2d: 2-41                 [-1, 2048, 4, 4]          4,096\n",
       "|    └─ReLU: 2-42                        [-1, 2048, 4, 4]          --\n",
       "├─Sequential: 1-14                       [-1, 1024, 8, 8]          --\n",
       "|    └─ConvTranspose2d: 2-43             [-1, 1024, 8, 8]          8,389,632\n",
       "├─Sequential: 1-15                       [-1, 1024, 8, 8]          --\n",
       "|    └─Conv2d: 2-44                      [-1, 1024, 8, 8]          18,875,392\n",
       "|    └─BatchNorm2d: 2-45                 [-1, 1024, 8, 8]          2,048\n",
       "|    └─ReLU: 2-46                        [-1, 1024, 8, 8]          --\n",
       "|    └─Conv2d: 2-47                      [-1, 1024, 8, 8]          9,438,208\n",
       "|    └─BatchNorm2d: 2-48                 [-1, 1024, 8, 8]          2,048\n",
       "|    └─ReLU: 2-49                        [-1, 1024, 8, 8]          --\n",
       "├─Sequential: 1-16                       [-1, 512, 16, 16]         --\n",
       "|    └─ConvTranspose2d: 2-50             [-1, 512, 16, 16]         2,097,664\n",
       "├─Sequential: 1-17                       [-1, 512, 16, 16]         --\n",
       "|    └─Conv2d: 2-51                      [-1, 512, 16, 16]         4,719,104\n",
       "|    └─BatchNorm2d: 2-52                 [-1, 512, 16, 16]         1,024\n",
       "|    └─ReLU: 2-53                        [-1, 512, 16, 16]         --\n",
       "|    └─Conv2d: 2-54                      [-1, 512, 16, 16]         2,359,808\n",
       "|    └─BatchNorm2d: 2-55                 [-1, 512, 16, 16]         1,024\n",
       "|    └─ReLU: 2-56                        [-1, 512, 16, 16]         --\n",
       "├─Sequential: 1-18                       [-1, 256, 32, 32]         --\n",
       "|    └─ConvTranspose2d: 2-57             [-1, 256, 32, 32]         524,544\n",
       "├─Sequential: 1-19                       [-1, 256, 32, 32]         --\n",
       "|    └─Conv2d: 2-58                      [-1, 256, 32, 32]         1,179,904\n",
       "|    └─BatchNorm2d: 2-59                 [-1, 256, 32, 32]         512\n",
       "|    └─ReLU: 2-60                        [-1, 256, 32, 32]         --\n",
       "|    └─Conv2d: 2-61                      [-1, 256, 32, 32]         590,080\n",
       "|    └─BatchNorm2d: 2-62                 [-1, 256, 32, 32]         512\n",
       "|    └─ReLU: 2-63                        [-1, 256, 32, 32]         --\n",
       "├─Sequential: 1-20                       [-1, 128, 64, 64]         --\n",
       "|    └─ConvTranspose2d: 2-64             [-1, 128, 64, 64]         131,200\n",
       "├─Sequential: 1-21                       [-1, 128, 64, 64]         --\n",
       "|    └─Conv2d: 2-65                      [-1, 128, 64, 64]         295,040\n",
       "|    └─BatchNorm2d: 2-66                 [-1, 128, 64, 64]         256\n",
       "|    └─ReLU: 2-67                        [-1, 128, 64, 64]         --\n",
       "|    └─Conv2d: 2-68                      [-1, 128, 64, 64]         147,584\n",
       "|    └─BatchNorm2d: 2-69                 [-1, 128, 64, 64]         256\n",
       "|    └─ReLU: 2-70                        [-1, 128, 64, 64]         --\n",
       "├─Sequential: 1-22                       [-1, 64, 128, 128]        --\n",
       "|    └─ConvTranspose2d: 2-71             [-1, 64, 128, 128]        32,832\n",
       "├─Sequential: 1-23                       [-1, 64, 128, 128]        --\n",
       "|    └─Conv2d: 2-72                      [-1, 64, 128, 128]        73,792\n",
       "|    └─BatchNorm2d: 2-73                 [-1, 64, 128, 128]        128\n",
       "|    └─ReLU: 2-74                        [-1, 64, 128, 128]        --\n",
       "|    └─Conv2d: 2-75                      [-1, 64, 128, 128]        36,928\n",
       "|    └─BatchNorm2d: 2-76                 [-1, 64, 128, 128]        128\n",
       "|    └─ReLU: 2-77                        [-1, 64, 128, 128]        --\n",
       "├─Sequential: 1-24                       [-1, 32, 256, 256]        --\n",
       "|    └─ConvTranspose2d: 2-78             [-1, 32, 256, 256]        8,224\n",
       "├─Sequential: 1-25                       [-1, 32, 256, 256]        --\n",
       "|    └─Conv2d: 2-79                      [-1, 32, 256, 256]        18,464\n",
       "|    └─BatchNorm2d: 2-80                 [-1, 32, 256, 256]        64\n",
       "|    └─ReLU: 2-81                        [-1, 32, 256, 256]        --\n",
       "|    └─Conv2d: 2-82                      [-1, 32, 256, 256]        9,248\n",
       "|    └─BatchNorm2d: 2-83                 [-1, 32, 256, 256]        64\n",
       "|    └─ReLU: 2-84                        [-1, 32, 256, 256]        --\n",
       "==========================================================================================\n",
       "Total params: 124,448,640\n",
       "Trainable params: 124,448,640\n",
       "Non-trainable params: 0\n",
       "Total mult-adds (G): 20.28\n",
       "==========================================================================================\n",
       "Input size (MB): 0.25\n",
       "Forward/backward pass size (MB): 284.50\n",
       "Params size (MB): 474.73\n",
       "Estimated Total Size (MB): 759.48\n",
       "=========================================================================================="
      ]
     },
     "execution_count": 25,
     "metadata": {},
     "output_type": "execute_result"
    }
   ],
   "source": [
    "if __name__ == '__main__':\n",
    "    inputs = train_noisyImage[5]\n",
    "    inputs = np.expand_dims(inputs, axis=-3)\n",
    "    inputs = torch.Tensor(inputs)\n",
    "    print(inputs.shape)\n",
    "    out = unet(inputs)\n",
    "\n",
    "\n",
    "summary(unet,inputs )"
   ]
  },
  {
   "cell_type": "code",
   "execution_count": 27,
   "id": "37780abd",
   "metadata": {},
   "outputs": [
    {
     "name": "stdout",
     "output_type": "stream",
     "text": [
      "MSE orig 0.361245721578598\n",
      "MSE test 3.4664862155914307\n"
     ]
    }
   ],
   "source": [
    "# Prueba con un slice \n",
    "if __name__ == '__main__':\n",
    "    inputs = train_noisyImage[5]\n",
    "    inputs = np.expand_dims(inputs, axis=-3)\n",
    "    inputs = torch.Tensor(inputs)\n",
    "    out = unet(inputs)\n",
    "    \n",
    "gT = train_groundTruth[5]\n",
    "gT = np.expand_dims(gT, axis=-3)\n",
    "gT = torch.Tensor(gT)\n",
    "\n",
    "inputs_np = inputs.detach().numpy()\n",
    "out_np = out.detach().numpy()\n",
    "gT_np = gT.detach().numpy()\n",
    "\n",
    "MSE_orig = MSE(inputs_np[0,0,:,:],gT_np[0,0,:,:])\n",
    "MSE_test = MSE(out_np[0,0,:,:],gT_np[0,0,:,:])\n",
    "\n",
    "print('MSE orig', MSE_orig)\n",
    "print('MSE test', MSE_test)\n",
    "\n",
    "\n",
    "# Guardar imgs en formato .nii\n",
    "\n",
    "img_inputs = sitk.GetImageFromArray(inputs_np[0,0,:,:])\n",
    "sitk.WriteImage(img_inputs,'inputsNoTrain.nii')\n",
    "\n",
    "img_out = sitk.GetImageFromArray(out_np[0,0,:,:])\n",
    "sitk.WriteImage(img_out,'outNoTrain.nii')\n",
    "\n",
    "\n",
    "img_gT = sitk.GetImageFromArray(gT_np[0,0,:,:])\n",
    "sitk.WriteImage(img_gT,'groundTruthNoTrain.nii')"
   ]
  },
  {
   "cell_type": "code",
   "execution_count": 28,
   "id": "a395359e",
   "metadata": {},
   "outputs": [
    {
     "data": {
      "text/plain": [
       "<matplotlib.image.AxesImage at 0x214a03bddc8>"
      ]
     },
     "execution_count": 28,
     "metadata": {},
     "output_type": "execute_result"
    },
    {
     "data": {
      "image/png": "[encoded data removed]",
      "text/plain": [
       "<Figure size 432x288 with 1 Axes>"
      ]
     },
     "metadata": {
      "needs_background": "light"
     },
     "output_type": "display_data"
    }
   ],
   "source": [
    "scaleForVisualization = 1.2*gT_np.max()\n",
    "\n",
    "plt.imshow(inputs_np[0,0,:,:] , vmin = 0, vmax = scaleForVisualization)"
   ]
  },
  {
   "cell_type": "code",
   "execution_count": 29,
   "id": "625a255b",
   "metadata": {},
   "outputs": [
    {
     "data": {
      "text/plain": [
       "<matplotlib.image.AxesImage at 0x2149f49c688>"
      ]
     },
     "execution_count": 29,
     "metadata": {},
     "output_type": "execute_result"
    },
    {
     "data": {
      "image/png": "[encoded data removed]",
      "text/plain": [
       "<Figure size 432x288 with 1 Axes>"
      ]
     },
     "metadata": {
      "needs_background": "light"
     },
     "output_type": "display_data"
    }
   ],
   "source": [
    "plt.imshow(out_np[0,0,:,:] , vmin = 0, vmax = scaleForVisualization)"
   ]
  },
  {
   "cell_type": "code",
   "execution_count": 30,
   "id": "58fa9733",
   "metadata": {},
   "outputs": [],
   "source": [
    "# Codigo de pag Pythorch\n",
    "def train_one_epoch(epoch_index, tb_writer):\n",
    "    running_loss = 0.\n",
    "    last_loss = 0.\n",
    "    \n",
    "    for i in range(0, train_noisyImage.shape[0]):\n",
    "        \n",
    "        # Acondicionamiento de datos\n",
    "        \n",
    "        inputs = train_noisyImage[i]\n",
    "        inputs = np.expand_dims(inputs, axis=-3)\n",
    "        inputs = torch.Tensor(inputs)\n",
    "        \n",
    "        trainGroundTruth = train_groundTruth[i]\n",
    "        trainGroundTruth = np.expand_dims(trainGroundTruth, axis=-3)\n",
    "        trainGroundTruth = torch.Tensor(trainGroundTruth)\n",
    "\n",
    "        # zero the parameter gradients\n",
    "        optimizer.zero_grad()\n",
    "\n",
    "        # forward + backward + optimize\n",
    "        outputs = unet(inputs)\n",
    "        loss = criterion(outputs, trainGroundTruth)\n",
    "\n",
    "        loss.backward()\n",
    "\n",
    "        # Adjust learning weights\n",
    "        optimizer.step()\n",
    "\n",
    "        # Gather data and report\n",
    "        running_loss += loss.item()\n",
    "        \n",
    "        if i % 10 == 9:\n",
    "            last_loss = running_loss / 10 # loss en las ultimas 10 imagenes\n",
    "            print('  image {} loss: {}'.format(i + 1, last_loss))\n",
    "            tb_x = epoch_index * ((train_noisyImage.shape[0])/10) + i + 1\n",
    "            tb_writer.add_scalar('Loss/train', last_loss, tb_x)\n",
    "            running_loss = 0.\n",
    "\n",
    "    return last_loss"
   ]
  },
  {
   "cell_type": "code",
   "execution_count": 33,
   "id": "0a5900c1",
   "metadata": {
    "collapsed": true
   },
   "outputs": [
    {
     "name": "stdout",
     "output_type": "stream",
     "text": [
      "EPOCH 1:\n",
      "  image 10 loss: 2.6650085926055906\n",
      "LOSS train 2.6650085926055906 valid 2.2044968605041504\n"
     ]
    },
    {
     "name": "stderr",
     "output_type": "stream",
     "text": [
      "c:\\users\\ecyt\\appdata\\local\\programs\\python\\python37\\lib\\site-packages\\torch\\nn\\modules\\module.py:1384: UserWarning: positional arguments and argument \"destination\" are deprecated. nn.Module.state_dict will not accept them in the future. Refer to https://pytorch.org/docs/master/generated/torch.nn.Module.html#torch.nn.Module.state_dict for details.\n",
      "  \" and \".join(warn_msg) + \" are deprecated. nn.Module.state_dict will not accept them in the future. \"\n"
     ]
    },
    {
     "name": "stdout",
     "output_type": "stream",
     "text": [
      "EPOCH 2:\n",
      "  image 10 loss: 2.218086802959442\n",
      "LOSS train 2.218086802959442 valid 2.137843608856201\n",
      "EPOCH 3:\n",
      "  image 10 loss: 2.371558690071106\n",
      "LOSS train 2.371558690071106 valid 2.2909998893737793\n",
      "EPOCH 4:\n"
     ]
    },
    {
     "ename": "KeyboardInterrupt",
     "evalue": "",
     "output_type": "error",
     "traceback": [
      "\u001b[1;31m---------------------------------------------------------------------------\u001b[0m",
      "\u001b[1;31mKeyboardInterrupt\u001b[0m                         Traceback (most recent call last)",
      "\u001b[1;32m~\\AppData\\Local\\Temp\\ipykernel_12004\\3228914178.py\u001b[0m in \u001b[0;36m<module>\u001b[1;34m\u001b[0m\n\u001b[0;32m     14\u001b[0m     \u001b[1;31m# Make sure gradient tracking is on, and do a pass over the data\u001b[0m\u001b[1;33m\u001b[0m\u001b[1;33m\u001b[0m\u001b[1;33m\u001b[0m\u001b[0m\n\u001b[0;32m     15\u001b[0m     \u001b[0munet\u001b[0m\u001b[1;33m.\u001b[0m\u001b[0mtrain\u001b[0m\u001b[1;33m(\u001b[0m\u001b[1;32mTrue\u001b[0m\u001b[1;33m)\u001b[0m\u001b[1;33m\u001b[0m\u001b[1;33m\u001b[0m\u001b[0m\n\u001b[1;32m---> 16\u001b[1;33m     \u001b[0mavg_loss\u001b[0m \u001b[1;33m=\u001b[0m \u001b[0mtrain_one_epoch\u001b[0m\u001b[1;33m(\u001b[0m\u001b[0mepoch_number\u001b[0m\u001b[1;33m,\u001b[0m \u001b[0mwriter\u001b[0m\u001b[1;33m)\u001b[0m\u001b[1;33m\u001b[0m\u001b[1;33m\u001b[0m\u001b[0m\n\u001b[0m\u001b[0;32m     17\u001b[0m \u001b[1;33m\u001b[0m\u001b[0m\n\u001b[0;32m     18\u001b[0m     \u001b[1;31m# We don't need gradients on to do reporting\u001b[0m\u001b[1;33m\u001b[0m\u001b[1;33m\u001b[0m\u001b[1;33m\u001b[0m\u001b[0m\n",
      "\u001b[1;32m~\\AppData\\Local\\Temp\\ipykernel_12004\\3359735190.py\u001b[0m in \u001b[0;36mtrain_one_epoch\u001b[1;34m(epoch_index, tb_writer)\u001b[0m\n\u001b[0;32m     23\u001b[0m         \u001b[0mloss\u001b[0m \u001b[1;33m=\u001b[0m \u001b[0mcriterion\u001b[0m\u001b[1;33m(\u001b[0m\u001b[0moutputs\u001b[0m\u001b[1;33m,\u001b[0m \u001b[0mtrainGroundTruth\u001b[0m\u001b[1;33m)\u001b[0m\u001b[1;33m\u001b[0m\u001b[1;33m\u001b[0m\u001b[0m\n\u001b[0;32m     24\u001b[0m \u001b[1;33m\u001b[0m\u001b[0m\n\u001b[1;32m---> 25\u001b[1;33m         \u001b[0mloss\u001b[0m\u001b[1;33m.\u001b[0m\u001b[0mbackward\u001b[0m\u001b[1;33m(\u001b[0m\u001b[1;33m)\u001b[0m\u001b[1;33m\u001b[0m\u001b[1;33m\u001b[0m\u001b[0m\n\u001b[0m\u001b[0;32m     26\u001b[0m \u001b[1;33m\u001b[0m\u001b[0m\n\u001b[0;32m     27\u001b[0m         \u001b[1;31m# Adjust learning weights\u001b[0m\u001b[1;33m\u001b[0m\u001b[1;33m\u001b[0m\u001b[1;33m\u001b[0m\u001b[0m\n",
      "\u001b[1;32mc:\\users\\ecyt\\appdata\\local\\programs\\python\\python37\\lib\\site-packages\\torch\\_tensor.py\u001b[0m in \u001b[0;36mbackward\u001b[1;34m(self, gradient, retain_graph, create_graph, inputs)\u001b[0m\n\u001b[0;32m    397\u001b[0m                 \u001b[0mcreate_graph\u001b[0m\u001b[1;33m=\u001b[0m\u001b[0mcreate_graph\u001b[0m\u001b[1;33m,\u001b[0m\u001b[1;33m\u001b[0m\u001b[1;33m\u001b[0m\u001b[0m\n\u001b[0;32m    398\u001b[0m                 inputs=inputs)\n\u001b[1;32m--> 399\u001b[1;33m         \u001b[0mtorch\u001b[0m\u001b[1;33m.\u001b[0m\u001b[0mautograd\u001b[0m\u001b[1;33m.\u001b[0m\u001b[0mbackward\u001b[0m\u001b[1;33m(\u001b[0m\u001b[0mself\u001b[0m\u001b[1;33m,\u001b[0m \u001b[0mgradient\u001b[0m\u001b[1;33m,\u001b[0m \u001b[0mretain_graph\u001b[0m\u001b[1;33m,\u001b[0m \u001b[0mcreate_graph\u001b[0m\u001b[1;33m,\u001b[0m \u001b[0minputs\u001b[0m\u001b[1;33m=\u001b[0m\u001b[0minputs\u001b[0m\u001b[1;33m)\u001b[0m\u001b[1;33m\u001b[0m\u001b[1;33m\u001b[0m\u001b[0m\n\u001b[0m\u001b[0;32m    400\u001b[0m \u001b[1;33m\u001b[0m\u001b[0m\n\u001b[0;32m    401\u001b[0m     \u001b[1;32mdef\u001b[0m \u001b[0mregister_hook\u001b[0m\u001b[1;33m(\u001b[0m\u001b[0mself\u001b[0m\u001b[1;33m,\u001b[0m \u001b[0mhook\u001b[0m\u001b[1;33m)\u001b[0m\u001b[1;33m:\u001b[0m\u001b[1;33m\u001b[0m\u001b[1;33m\u001b[0m\u001b[0m\n",
      "\u001b[1;32mc:\\users\\ecyt\\appdata\\local\\programs\\python\\python37\\lib\\site-packages\\torch\\autograd\\__init__.py\u001b[0m in \u001b[0;36mbackward\u001b[1;34m(tensors, grad_tensors, retain_graph, create_graph, grad_variables, inputs)\u001b[0m\n\u001b[0;32m    173\u001b[0m     Variable._execution_engine.run_backward(  # Calls into the C++ engine to run the backward pass\n\u001b[0;32m    174\u001b[0m         \u001b[0mtensors\u001b[0m\u001b[1;33m,\u001b[0m \u001b[0mgrad_tensors_\u001b[0m\u001b[1;33m,\u001b[0m \u001b[0mretain_graph\u001b[0m\u001b[1;33m,\u001b[0m \u001b[0mcreate_graph\u001b[0m\u001b[1;33m,\u001b[0m \u001b[0minputs\u001b[0m\u001b[1;33m,\u001b[0m\u001b[1;33m\u001b[0m\u001b[1;33m\u001b[0m\u001b[0m\n\u001b[1;32m--> 175\u001b[1;33m         allow_unreachable=True, accumulate_grad=True)  # Calls into the C++ engine to run the backward pass\n\u001b[0m\u001b[0;32m    176\u001b[0m \u001b[1;33m\u001b[0m\u001b[0m\n\u001b[0;32m    177\u001b[0m def grad(\n",
      "\u001b[1;31mKeyboardInterrupt\u001b[0m: "
     ]
    }
   ],
   "source": [
    "# Initializing in a separate cell so we can easily add more epochs to the same run\n",
    "\n",
    "timestamp = datetime.now().strftime('%Y%m%d_%H%M%S')\n",
    "writer = SummaryWriter('runs/fashion_trainer_{}'.format(timestamp))\n",
    "epoch_number = 0\n",
    "\n",
    "EPOCHS = 10\n",
    "\n",
    "best_vloss = 1_000_000.\n",
    "\n",
    "for epoch in range(EPOCHS):\n",
    "    print('EPOCH {}:'.format(epoch_number + 1))\n",
    "\n",
    "    # Make sure gradient tracking is on, and do a pass over the data\n",
    "    unet.train(True)\n",
    "    avg_loss = train_one_epoch(epoch_number, writer)\n",
    "\n",
    "    # We don't need gradients on to do reporting\n",
    "    unet.train(False)\n",
    "\n",
    "    running_vloss = 0.0\n",
    "    for i in range(0, valid_noisyImage.shape[0]):\n",
    "        \n",
    "        vinputs = valid_noisyImage[i]\n",
    "        vinputs = np.expand_dims(vinputs, axis=-3)\n",
    "        vinputs = torch.Tensor(vinputs)\n",
    "        \n",
    "        validGroundTruth = valid_groundTruth[i]\n",
    "        validGroundTruth = np.expand_dims(validGroundTruth, axis=-3)\n",
    "        validGroundTruth = torch.Tensor(validGroundTruth)\n",
    "        \n",
    "        voutputs = unet(vinputs)\n",
    "        vloss =  criterion(voutputs, validGroundTruth)\n",
    "        running_vloss += vloss\n",
    "\n",
    "    avg_vloss = running_vloss / (i + 1)\n",
    "    print('LOSS train {} valid {}'.format(avg_loss, avg_vloss))\n",
    "\n",
    "    # Log the running loss averaged per batch\n",
    "    # for both training and validation\n",
    "    writer.add_scalars('Training vs. Validation Loss',\n",
    "                    { 'Training' : avg_loss, 'Validation' : avg_vloss },\n",
    "                    epoch_number + 1)\n",
    "    writer.flush()\n",
    "\n",
    "    # Track best performance, and save the model's state\n",
    "    if avg_vloss < best_vloss:\n",
    "        best_vloss = avg_vloss\n",
    "        unet_path = 'model_{}_{}'.format(timestamp, epoch_number)\n",
    "        torch.save(unet.state_dict(), unet_path)\n",
    "\n",
    "    epoch_number += 1"
   ]
  },
  {
   "cell_type": "code",
   "execution_count": null,
   "id": "7ce385af",
   "metadata": {},
   "outputs": [],
   "source": [
    "plt.imshow(inputsTrain_np[0,0,:,:] , vmin = 0, vmax = scaleForVisualization)"
   ]
  },
  {
   "cell_type": "code",
   "execution_count": null,
   "id": "b06c4f07",
   "metadata": {},
   "outputs": [],
   "source": [
    "plt.imshow(outTrain_np[0,0,:,:] ,vmin = 0, vmax = scaleForVisualization )"
   ]
  },
  {
   "cell_type": "code",
   "execution_count": null,
   "id": "42a844cf",
   "metadata": {},
   "outputs": [],
   "source": [
    "plt.imshow(gTtrain_np[0,0,:,:] ,vmin = 0, vmax = scaleForVisualization )"
   ]
  },
  {
   "cell_type": "code",
   "execution_count": null,
   "id": "a38df2a5",
   "metadata": {},
   "outputs": [],
   "source": [
    "# CONJUNTO DE TESTEO\n",
    "\n",
    "if __name__ == '__main__':\n",
    "    inputsTest = test_noisyImage[1]\n",
    "    inputsTest = np.expand_dims(inputsTest, axis=-3)\n",
    "    inputsTest = torch.Tensor(inputsTest)\n",
    "    model = Unet()\n",
    "    outTest = unet(inputsTest)\n",
    "    \n",
    "gTtest = test_groundTruth[1]\n",
    "gTtest = np.expand_dims(gTtest, axis=-3)\n",
    "gTtest = torch.Tensor(gTtest)\n",
    "\n",
    "inputsTest_np = inputsTest.detach().numpy()\n",
    "outTest_np = outTest.detach().numpy()\n",
    "gTtest_np = gTtest.detach().numpy()\n",
    "\n",
    "# MSE antes y dsp\n",
    "\n",
    "MSE_orig = MSE(inputsTest_np[0,0,:,:],gTtest_np[0,0,:,:])\n",
    "MSE_test = MSE(outTest_np[0,0,:,:],gTtest_np[0,0,:,:])\n",
    "\n",
    "print('MSE orig', MSE_orig)\n",
    "print('MSE test', MSE_test)\n",
    "\n",
    "# Guardar imgs en formato .nii\n",
    "\n",
    "img_inputs = sitk.GetImageFromArray(inputsTest_np[0,0,:,:])\n",
    "sitk.WriteImage(img_inputs,'inputsTest.nii')\n",
    "\n",
    "img_out = sitk.GetImageFromArray(outTest_np[0,0,:,:])\n",
    "sitk.WriteImage(img_out,'outTest.nii')\n",
    "\n",
    "img_gTtest = sitk.GetImageFromArray(gTtest_np[0,0,:,:])\n",
    "sitk.WriteImage(img_gT,'groundTruthtest.nii')"
   ]
  },
  {
   "cell_type": "code",
   "execution_count": null,
   "id": "831c33c7",
   "metadata": {},
   "outputs": [],
   "source": [
    "plt.imshow(inputsTest_np[0,0,:,:] , vmin = 0, vmax = scaleForVisualization)"
   ]
  },
  {
   "cell_type": "code",
   "execution_count": null,
   "id": "f3bce710",
   "metadata": {},
   "outputs": [],
   "source": [
    "plt.imshow(outTest_np[0,0,:,:] ,vmin = 0, vmax = scaleForVisualization )"
   ]
  }
 ],
 "metadata": {
  "kernelspec": {
   "display_name": "Python 3 (ipykernel)",
   "language": "python",
   "name": "python3"
  },
  "language_info": {
   "codemirror_mode": {
    "name": "ipython",
    "version": 3
   },
   "file_extension": ".py",
   "mimetype": "text/x-python",
   "name": "python",
   "nbconvert_exporter": "python",
   "pygments_lexer": "ipython3",
   "version": "3.7.9"
  }
 },
 "nbformat": 4,
 "nbformat_minor": 5
}
